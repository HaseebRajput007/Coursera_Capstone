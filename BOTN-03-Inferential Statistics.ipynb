{
 "cells": [
  {
   "cell_type": "markdown",
   "metadata": {},
   "source": [
    "# Inferential Statistics\n",
    "\n",
    "Inferential statistics allows us to provide insight on a given topic. There are many types of statistical tests that allows one to make inferences. Some of the common statistical tests are:\n",
    "\n",
    "* Correlations\n",
    "* Chi-square test\n",
    "* Independent t-test (a.k.a Student’s t-test)\n",
    "* Paired sample t-test\n",
    "* Welch’s t-test\n",
    "* Wilcoxon signed-rank test\n",
    "* Linear regression\n",
    "* Logistic regression\n",
    "* One-way Analysis of Variance (ANOVA)\n",
    "* Two-way/N-way ANOVA\n",
    "\n",
    "In this section we will investigate if there are any obvious inferential statisticical methods that can help us when modelling the data.\n",
    "\n",
    "## Import required Libraries\n",
    "\n",
    "We start, as normal, by importing required libaries."
   ]
  },
  {
   "cell_type": "code",
   "execution_count": 28,
   "metadata": {},
   "outputs": [],
   "source": [
    "# Import Pandas\n",
    "import pandas as pd\n",
    "\n",
    "# Use the inline backend to generate the plots within the browser\n",
    "%matplotlib inline \n",
    "\n",
    "import matplotlib as mpl\n",
    "import matplotlib.pyplot as plt\n",
    "\n",
    "import seaborn as sns\n",
    "sns.set_style(\"darkgrid\")\n",
    "\n",
    "font = {'size'   : 14}\n",
    "mpl.rc('font', **font)"
   ]
  },
  {
   "cell_type": "markdown",
   "metadata": {},
   "source": [
    "## Import Dataframes from Pickle files\n",
    "\n",
    "We load in the exported pickle files of the dataframes created in the Data Acquition Section."
   ]
  },
  {
   "cell_type": "code",
   "execution_count": 29,
   "metadata": {},
   "outputs": [],
   "source": [
    "# Import the Pickle of the Crimes DataFrame\n",
    "df_crimes = pd.read_pickle('./capstone_pickles/crimes.pkl')\n",
    "df_crimes.drop('index', inplace=True, axis=1)\n",
    "\n",
    "# Import the Pickle of the Top Venues DataFrame\n",
    "df_topvnues = pd.read_pickle('./capstone_pickles/top_venues.pkl')\n",
    "\n",
    "# Import the Pickle of the Restaurants DataFrame\n",
    "df_rest = pd.read_pickle('./capstone_pickles/restaurants.pkl')"
   ]
  },
  {
   "cell_type": "code",
   "execution_count": 30,
   "metadata": {},
   "outputs": [
    {
     "data": {
      "text/html": [
       "<div>\n",
       "<style scoped>\n",
       "    .dataframe tbody tr th:only-of-type {\n",
       "        vertical-align: middle;\n",
       "    }\n",
       "\n",
       "    .dataframe tbody tr th {\n",
       "        vertical-align: top;\n",
       "    }\n",
       "\n",
       "    .dataframe thead th {\n",
       "        text-align: right;\n",
       "    }\n",
       "</style>\n",
       "<table border=\"1\" class=\"dataframe\">\n",
       "  <thead>\n",
       "    <tr style=\"text-align: right;\">\n",
       "      <th></th>\n",
       "      <th>case</th>\n",
       "      <th>date_of_occurrence</th>\n",
       "      <th>block</th>\n",
       "      <th>primary_description</th>\n",
       "      <th>ward</th>\n",
       "      <th>latitude</th>\n",
       "      <th>longitude</th>\n",
       "      <th>hour</th>\n",
       "      <th>day_name</th>\n",
       "      <th>day</th>\n",
       "      <th>month_name</th>\n",
       "      <th>month</th>\n",
       "      <th>year</th>\n",
       "      <th>year_month</th>\n",
       "      <th>zip</th>\n",
       "      <th>street</th>\n",
       "    </tr>\n",
       "  </thead>\n",
       "  <tbody>\n",
       "    <tr>\n",
       "      <th>0</th>\n",
       "      <td>JB241987</td>\n",
       "      <td>2018-04-28 22:05:00</td>\n",
       "      <td>009XX N LONG AVE</td>\n",
       "      <td>NARCOTICS</td>\n",
       "      <td>37.0</td>\n",
       "      <td>41.897895</td>\n",
       "      <td>-87.760744</td>\n",
       "      <td>22</td>\n",
       "      <td>Saturday</td>\n",
       "      <td>6</td>\n",
       "      <td>April</td>\n",
       "      <td>4</td>\n",
       "      <td>2018</td>\n",
       "      <td>2018-04</td>\n",
       "      <td>009XX</td>\n",
       "      <td>N, LONG, AVE</td>\n",
       "    </tr>\n",
       "    <tr>\n",
       "      <th>1</th>\n",
       "      <td>JB241350</td>\n",
       "      <td>2018-04-28 08:00:00</td>\n",
       "      <td>008XX E 53RD ST</td>\n",
       "      <td>CRIMINAL DAMAGE</td>\n",
       "      <td>5.0</td>\n",
       "      <td>41.798635</td>\n",
       "      <td>-87.604823</td>\n",
       "      <td>8</td>\n",
       "      <td>Saturday</td>\n",
       "      <td>6</td>\n",
       "      <td>April</td>\n",
       "      <td>4</td>\n",
       "      <td>2018</td>\n",
       "      <td>2018-04</td>\n",
       "      <td>008XX</td>\n",
       "      <td>E, 53RD, ST</td>\n",
       "    </tr>\n",
       "    <tr>\n",
       "      <th>2</th>\n",
       "      <td>JB245397</td>\n",
       "      <td>2018-04-28 09:00:00</td>\n",
       "      <td>062XX S MICHIGAN AVE</td>\n",
       "      <td>THEFT</td>\n",
       "      <td>20.0</td>\n",
       "      <td>41.780946</td>\n",
       "      <td>-87.621995</td>\n",
       "      <td>9</td>\n",
       "      <td>Saturday</td>\n",
       "      <td>6</td>\n",
       "      <td>April</td>\n",
       "      <td>4</td>\n",
       "      <td>2018</td>\n",
       "      <td>2018-04</td>\n",
       "      <td>062XX</td>\n",
       "      <td>S, MICHIGAN, AVE</td>\n",
       "    </tr>\n",
       "    <tr>\n",
       "      <th>3</th>\n",
       "      <td>JB241444</td>\n",
       "      <td>2018-04-28 12:15:00</td>\n",
       "      <td>046XX N ELSTON AVE</td>\n",
       "      <td>THEFT</td>\n",
       "      <td>39.0</td>\n",
       "      <td>41.965404</td>\n",
       "      <td>-87.736202</td>\n",
       "      <td>12</td>\n",
       "      <td>Saturday</td>\n",
       "      <td>6</td>\n",
       "      <td>April</td>\n",
       "      <td>4</td>\n",
       "      <td>2018</td>\n",
       "      <td>2018-04</td>\n",
       "      <td>046XX</td>\n",
       "      <td>N, ELSTON, AVE</td>\n",
       "    </tr>\n",
       "    <tr>\n",
       "      <th>4</th>\n",
       "      <td>JB241667</td>\n",
       "      <td>2018-04-28 16:28:00</td>\n",
       "      <td>022XX S KENNETH AVE</td>\n",
       "      <td>ARSON</td>\n",
       "      <td>22.0</td>\n",
       "      <td>41.850673</td>\n",
       "      <td>-87.735597</td>\n",
       "      <td>16</td>\n",
       "      <td>Saturday</td>\n",
       "      <td>6</td>\n",
       "      <td>April</td>\n",
       "      <td>4</td>\n",
       "      <td>2018</td>\n",
       "      <td>2018-04</td>\n",
       "      <td>022XX</td>\n",
       "      <td>S, KENNETH, AVE</td>\n",
       "    </tr>\n",
       "  </tbody>\n",
       "</table>\n",
       "</div>"
      ],
      "text/plain": [
       "       case  date_of_occurrence                 block primary_description  \\\n",
       "0  JB241987 2018-04-28 22:05:00      009XX N LONG AVE           NARCOTICS   \n",
       "1  JB241350 2018-04-28 08:00:00       008XX E 53RD ST     CRIMINAL DAMAGE   \n",
       "2  JB245397 2018-04-28 09:00:00  062XX S MICHIGAN AVE               THEFT   \n",
       "3  JB241444 2018-04-28 12:15:00    046XX N ELSTON AVE               THEFT   \n",
       "4  JB241667 2018-04-28 16:28:00   022XX S KENNETH AVE               ARSON   \n",
       "\n",
       "   ward   latitude  longitude  hour  day_name  day month_name  month  year  \\\n",
       "0  37.0  41.897895 -87.760744    22  Saturday    6      April      4  2018   \n",
       "1   5.0  41.798635 -87.604823     8  Saturday    6      April      4  2018   \n",
       "2  20.0  41.780946 -87.621995     9  Saturday    6      April      4  2018   \n",
       "3  39.0  41.965404 -87.736202    12  Saturday    6      April      4  2018   \n",
       "4  22.0  41.850673 -87.735597    16  Saturday    6      April      4  2018   \n",
       "\n",
       "  year_month    zip            street  \n",
       "0    2018-04  009XX      N, LONG, AVE  \n",
       "1    2018-04  008XX       E, 53RD, ST  \n",
       "2    2018-04  062XX  S, MICHIGAN, AVE  \n",
       "3    2018-04  046XX    N, ELSTON, AVE  \n",
       "4    2018-04  022XX   S, KENNETH, AVE  "
      ]
     },
     "execution_count": 30,
     "metadata": {},
     "output_type": "execute_result"
    }
   ],
   "source": [
    "df_crimes.head()"
   ]
  },
  {
   "cell_type": "code",
   "execution_count": 32,
   "metadata": {},
   "outputs": [],
   "source": [
    "df_crimeward_crosstab = pd.crosstab(df_crimes.primary_description, df_crimes.ward)"
   ]
  },
  {
   "cell_type": "code",
   "execution_count": 33,
   "metadata": {},
   "outputs": [
    {
     "data": {
      "text/html": [
       "<div>\n",
       "<style scoped>\n",
       "    .dataframe tbody tr th:only-of-type {\n",
       "        vertical-align: middle;\n",
       "    }\n",
       "\n",
       "    .dataframe tbody tr th {\n",
       "        vertical-align: top;\n",
       "    }\n",
       "\n",
       "    .dataframe thead th {\n",
       "        text-align: right;\n",
       "    }\n",
       "</style>\n",
       "<table border=\"1\" class=\"dataframe\">\n",
       "  <thead>\n",
       "    <tr style=\"text-align: right;\">\n",
       "      <th></th>\n",
       "      <th>id</th>\n",
       "      <th>score</th>\n",
       "      <th>category</th>\n",
       "      <th>name</th>\n",
       "      <th>address</th>\n",
       "      <th>postalcode</th>\n",
       "      <th>city</th>\n",
       "      <th>href</th>\n",
       "      <th>latitude</th>\n",
       "      <th>longitude</th>\n",
       "    </tr>\n",
       "  </thead>\n",
       "  <tbody>\n",
       "    <tr>\n",
       "      <th>0</th>\n",
       "      <td>42b75880f964a52090251fe3</td>\n",
       "      <td>9.7</td>\n",
       "      <td>Park</td>\n",
       "      <td>Millennium Park</td>\n",
       "      <td>201 E Randolph St</td>\n",
       "      <td>60601</td>\n",
       "      <td>Chicago</td>\n",
       "      <td>/v/millennium-park/42b75880f964a52090251fe3</td>\n",
       "      <td>41.882699</td>\n",
       "      <td>-87.623644</td>\n",
       "    </tr>\n",
       "    <tr>\n",
       "      <th>1</th>\n",
       "      <td>4b9511c7f964a520f38d34e3</td>\n",
       "      <td>9.6</td>\n",
       "      <td>Trail</td>\n",
       "      <td>Chicago Lakefront Trail</td>\n",
       "      <td>Lake Michigan Lakefront</td>\n",
       "      <td>60611</td>\n",
       "      <td>Chicago</td>\n",
       "      <td>/v/chicago-lakefront-trail/4b9511c7f964a520f38...</td>\n",
       "      <td>41.967053</td>\n",
       "      <td>-87.646909</td>\n",
       "    </tr>\n",
       "    <tr>\n",
       "      <th>2</th>\n",
       "      <td>49e9ef74f964a52011661fe3</td>\n",
       "      <td>9.6</td>\n",
       "      <td>Art Museum</td>\n",
       "      <td>The Art Institute of Chicago</td>\n",
       "      <td>111 S Michigan Ave</td>\n",
       "      <td>60603</td>\n",
       "      <td>Chicago</td>\n",
       "      <td>/v/the-art-institute-of-chicago/49e9ef74f964a5...</td>\n",
       "      <td>41.879665</td>\n",
       "      <td>-87.623630</td>\n",
       "    </tr>\n",
       "    <tr>\n",
       "      <th>3</th>\n",
       "      <td>4f2a0d0ae4b0837d0c4c2bc3</td>\n",
       "      <td>9.6</td>\n",
       "      <td>Deli / Bodega</td>\n",
       "      <td>Publican Quality Meats</td>\n",
       "      <td>825 W Fulton Market</td>\n",
       "      <td>60607</td>\n",
       "      <td>Chicago</td>\n",
       "      <td>/v/publican-quality-meats/4f2a0d0ae4b0837d0c4c...</td>\n",
       "      <td>41.886642</td>\n",
       "      <td>-87.648718</td>\n",
       "    </tr>\n",
       "    <tr>\n",
       "      <th>4</th>\n",
       "      <td>4aa05f40f964a520643f20e3</td>\n",
       "      <td>9.6</td>\n",
       "      <td>Theater</td>\n",
       "      <td>The Chicago Theatre</td>\n",
       "      <td>175 N State St</td>\n",
       "      <td>60601</td>\n",
       "      <td>Chicago</td>\n",
       "      <td>/v/the-chicago-theatre/4aa05f40f964a520643f20e3</td>\n",
       "      <td>41.885578</td>\n",
       "      <td>-87.627286</td>\n",
       "    </tr>\n",
       "  </tbody>\n",
       "</table>\n",
       "</div>"
      ],
      "text/plain": [
       "                         id  score       category  \\\n",
       "0  42b75880f964a52090251fe3    9.7           Park   \n",
       "1  4b9511c7f964a520f38d34e3    9.6          Trail   \n",
       "2  49e9ef74f964a52011661fe3    9.6     Art Museum   \n",
       "3  4f2a0d0ae4b0837d0c4c2bc3    9.6  Deli / Bodega   \n",
       "4  4aa05f40f964a520643f20e3    9.6        Theater   \n",
       "\n",
       "                           name                  address postalcode     city  \\\n",
       "0               Millennium Park        201 E Randolph St      60601  Chicago   \n",
       "1       Chicago Lakefront Trail  Lake Michigan Lakefront      60611  Chicago   \n",
       "2  The Art Institute of Chicago       111 S Michigan Ave      60603  Chicago   \n",
       "3        Publican Quality Meats      825 W Fulton Market      60607  Chicago   \n",
       "4           The Chicago Theatre           175 N State St      60601  Chicago   \n",
       "\n",
       "                                                href   latitude  longitude  \n",
       "0        /v/millennium-park/42b75880f964a52090251fe3  41.882699 -87.623644  \n",
       "1  /v/chicago-lakefront-trail/4b9511c7f964a520f38...  41.967053 -87.646909  \n",
       "2  /v/the-art-institute-of-chicago/49e9ef74f964a5...  41.879665 -87.623630  \n",
       "3  /v/publican-quality-meats/4f2a0d0ae4b0837d0c4c...  41.886642 -87.648718  \n",
       "4    /v/the-chicago-theatre/4aa05f40f964a520643f20e3  41.885578 -87.627286  "
      ]
     },
     "execution_count": 33,
     "metadata": {},
     "output_type": "execute_result"
    }
   ],
   "source": [
    "df_topvnues.head()"
   ]
  },
  {
   "cell_type": "code",
   "execution_count": 34,
   "metadata": {},
   "outputs": [
    {
     "data": {
      "text/plain": [
       "<matplotlib.axes._subplots.AxesSubplot at 0x1a2ffcd3c8>"
      ]
     },
     "execution_count": 34,
     "metadata": {},
     "output_type": "execute_result"
    },
    {
     "data": {
      "image/png": "[encoded data removed]",
      "text/plain": [
       "<Figure size 432x288 with 1 Axes>"
      ]
     },
     "metadata": {},
     "output_type": "display_data"
    }
   ],
   "source": [
    "df_topvnues.plot.scatter('score', 'latitude')"
   ]
  },
  {
   "cell_type": "code",
   "execution_count": 35,
   "metadata": {},
   "outputs": [
    {
     "data": {
      "text/plain": [
       "<matplotlib.axes._subplots.AxesSubplot at 0x1a3682eac8>"
      ]
     },
     "execution_count": 35,
     "metadata": {},
     "output_type": "execute_result"
    },
    {
     "data": {
      "image/png": "[encoded data removed]",
      "text/plain": [
       "<Figure size 432x288 with 1 Axes>"
      ]
     },
     "metadata": {},
     "output_type": "display_data"
    }
   ],
   "source": [
    "df_topvnues.plot.scatter('score', 'longitude')"
   ]
  },
  {
   "cell_type": "code",
   "execution_count": null,
   "metadata": {},
   "outputs": [],
   "source": []
  },
  {
   "cell_type": "code",
   "execution_count": 6,
   "metadata": {},
   "outputs": [
    {
     "data": {
      "text/html": [
       "<div>\n",
       "<style scoped>\n",
       "    .dataframe tbody tr th:only-of-type {\n",
       "        vertical-align: middle;\n",
       "    }\n",
       "\n",
       "    .dataframe tbody tr th {\n",
       "        vertical-align: top;\n",
       "    }\n",
       "\n",
       "    .dataframe thead th {\n",
       "        text-align: right;\n",
       "    }\n",
       "</style>\n",
       "<table border=\"1\" class=\"dataframe\">\n",
       "  <thead>\n",
       "    <tr style=\"text-align: right;\">\n",
       "      <th></th>\n",
       "      <th>id</th>\n",
       "      <th>score</th>\n",
       "      <th>category</th>\n",
       "      <th>categoryID</th>\n",
       "      <th>name</th>\n",
       "      <th>address</th>\n",
       "      <th>postalcode</th>\n",
       "      <th>city</th>\n",
       "      <th>latitude</th>\n",
       "      <th>longitude</th>\n",
       "      <th>venue_name</th>\n",
       "      <th>venue_latitude</th>\n",
       "      <th>venue_longitude</th>\n",
       "    </tr>\n",
       "  </thead>\n",
       "  <tbody>\n",
       "    <tr>\n",
       "      <th>0</th>\n",
       "      <td>55669b9b498ee34e5249ea61</td>\n",
       "      <td>9.2</td>\n",
       "      <td>Gastropubs</td>\n",
       "      <td>4bf58dd8d48988d155941735</td>\n",
       "      <td>Cindy's</td>\n",
       "      <td>12 S Michigan Ave</td>\n",
       "      <td>60603</td>\n",
       "      <td>Chicago</td>\n",
       "      <td>41.881695</td>\n",
       "      <td>-87.624600</td>\n",
       "      <td>Millennium Park</td>\n",
       "      <td>41.882699</td>\n",
       "      <td>-87.623644</td>\n",
       "    </tr>\n",
       "    <tr>\n",
       "      <th>1</th>\n",
       "      <td>556509d6498e726bdec19fe9</td>\n",
       "      <td>8.4</td>\n",
       "      <td>Burger Joints</td>\n",
       "      <td>4bf58dd8d48988d16c941735</td>\n",
       "      <td>Shake Shack</td>\n",
       "      <td>12 S Michigan Ave</td>\n",
       "      <td>60603</td>\n",
       "      <td>Chicago</td>\n",
       "      <td>41.881673</td>\n",
       "      <td>-87.624455</td>\n",
       "      <td>Millennium Park</td>\n",
       "      <td>41.882699</td>\n",
       "      <td>-87.623644</td>\n",
       "    </tr>\n",
       "    <tr>\n",
       "      <th>2</th>\n",
       "      <td>49e749fbf964a52086641fe3</td>\n",
       "      <td>9.1</td>\n",
       "      <td>Gastropubs</td>\n",
       "      <td>4bf58dd8d48988d155941735</td>\n",
       "      <td>The Gage</td>\n",
       "      <td>24 S Michigan Ave</td>\n",
       "      <td>60603</td>\n",
       "      <td>Chicago</td>\n",
       "      <td>41.881319</td>\n",
       "      <td>-87.624642</td>\n",
       "      <td>Millennium Park</td>\n",
       "      <td>41.882699</td>\n",
       "      <td>-87.623644</td>\n",
       "    </tr>\n",
       "    <tr>\n",
       "      <th>3</th>\n",
       "      <td>4ed3dd7e93ad987b5112d29f</td>\n",
       "      <td>8.2</td>\n",
       "      <td>Bakeries</td>\n",
       "      <td>4bf58dd8d48988d16a941735</td>\n",
       "      <td>Panera Bread</td>\n",
       "      <td>2 N Michigan Ave</td>\n",
       "      <td>60602</td>\n",
       "      <td>Chicago</td>\n",
       "      <td>41.882273</td>\n",
       "      <td>-87.624795</td>\n",
       "      <td>Millennium Park</td>\n",
       "      <td>41.882699</td>\n",
       "      <td>-87.623644</td>\n",
       "    </tr>\n",
       "    <tr>\n",
       "      <th>4</th>\n",
       "      <td>4a63b5c3f964a5209fc51fe3</td>\n",
       "      <td>8.1</td>\n",
       "      <td>Pizza Places</td>\n",
       "      <td>4bf58dd8d48988d1ca941735</td>\n",
       "      <td>Pizano's Pizza</td>\n",
       "      <td>61 E Madison St.</td>\n",
       "      <td>60603</td>\n",
       "      <td>Chicago</td>\n",
       "      <td>41.882034</td>\n",
       "      <td>-87.625726</td>\n",
       "      <td>Millennium Park</td>\n",
       "      <td>41.882699</td>\n",
       "      <td>-87.623644</td>\n",
       "    </tr>\n",
       "  </tbody>\n",
       "</table>\n",
       "</div>"
      ],
      "text/plain": [
       "                         id  score       category                categoryID  \\\n",
       "0  55669b9b498ee34e5249ea61    9.2     Gastropubs  4bf58dd8d48988d155941735   \n",
       "1  556509d6498e726bdec19fe9    8.4  Burger Joints  4bf58dd8d48988d16c941735   \n",
       "2  49e749fbf964a52086641fe3    9.1     Gastropubs  4bf58dd8d48988d155941735   \n",
       "3  4ed3dd7e93ad987b5112d29f    8.2       Bakeries  4bf58dd8d48988d16a941735   \n",
       "4  4a63b5c3f964a5209fc51fe3    8.1   Pizza Places  4bf58dd8d48988d1ca941735   \n",
       "\n",
       "             name            address postalcode     city   latitude  \\\n",
       "0         Cindy's  12 S Michigan Ave      60603  Chicago  41.881695   \n",
       "1     Shake Shack  12 S Michigan Ave      60603  Chicago  41.881673   \n",
       "2        The Gage  24 S Michigan Ave      60603  Chicago  41.881319   \n",
       "3    Panera Bread   2 N Michigan Ave      60602  Chicago  41.882273   \n",
       "4  Pizano's Pizza   61 E Madison St.      60603  Chicago  41.882034   \n",
       "\n",
       "   longitude       venue_name  venue_latitude  venue_longitude  \n",
       "0 -87.624600  Millennium Park       41.882699       -87.623644  \n",
       "1 -87.624455  Millennium Park       41.882699       -87.623644  \n",
       "2 -87.624642  Millennium Park       41.882699       -87.623644  \n",
       "3 -87.624795  Millennium Park       41.882699       -87.623644  \n",
       "4 -87.625726  Millennium Park       41.882699       -87.623644  "
      ]
     },
     "execution_count": 6,
     "metadata": {},
     "output_type": "execute_result"
    }
   ],
   "source": [
    "df_rest.head()"
   ]
  },
  {
   "cell_type": "code",
   "execution_count": 36,
   "metadata": {},
   "outputs": [
    {
     "data": {
      "text/plain": [
       "<matplotlib.axes._subplots.AxesSubplot at 0x1a2e253eb8>"
      ]
     },
     "execution_count": 36,
     "metadata": {},
     "output_type": "execute_result"
    },
    {
     "data": {
      "image/png": "[encoded data removed]",
      "text/plain": [
       "<Figure size 432x288 with 1 Axes>"
      ]
     },
     "metadata": {},
     "output_type": "display_data"
    }
   ],
   "source": [
    "df_rest.plot.scatter('score', 'latitude')"
   ]
  },
  {
   "cell_type": "code",
   "execution_count": 37,
   "metadata": {},
   "outputs": [
    {
     "data": {
      "text/plain": [
       "<matplotlib.axes._subplots.AxesSubplot at 0x1a2e287710>"
      ]
     },
     "execution_count": 37,
     "metadata": {},
     "output_type": "execute_result"
    },
    {
     "data": {
      "image/png": "[encoded data removed]",
      "text/plain": [
       "<Figure size 432x288 with 1 Axes>"
      ]
     },
     "metadata": {},
     "output_type": "display_data"
    }
   ],
   "source": [
    "df_rest.plot.scatter('score', 'longitude')"
   ]
  },
  {
   "cell_type": "code",
   "execution_count": null,
   "metadata": {},
   "outputs": [],
   "source": []
  }
 ],
 "metadata": {
  "kernelspec": {
   "display_name": "Python [conda root]",
   "language": "python",
   "name": "conda-root-py"
  },
  "language_info": {
   "codemirror_mode": {
    "name": "ipython",
    "version": 3
   },
   "file_extension": ".py",
   "mimetype": "text/x-python",
   "name": "python",
   "nbconvert_exporter": "python",
   "pygments_lexer": "ipython3",
   "version": "3.5.6"
  }
 },
 "nbformat": 4,
 "nbformat_minor": 2
}
