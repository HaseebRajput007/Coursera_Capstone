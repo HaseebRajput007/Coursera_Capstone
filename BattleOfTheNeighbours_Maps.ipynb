{
 "cells": [
  {
   "cell_type": "markdown",
   "metadata": {},
   "source": [
    "# Introduction\n",
    "\n",
    "Displaying the Folium Maps was causing the Notebook to hang so spin them out into separate Notebook"
   ]
  },
  {
   "cell_type": "code",
   "execution_count": 6,
   "metadata": {},
   "outputs": [],
   "source": [
    "# Import the Pickle of the DataFrame\n",
    "import pandas as pd\n",
    "\n",
    "df_top_crimes_august = pd.read_pickle('./crimes_august.pkl')"
   ]
  },
  {
   "cell_type": "code",
   "execution_count": 7,
   "metadata": {},
   "outputs": [],
   "source": [
    "# Use Folium to display the Maps for Visualisation\n",
    "import folium\n",
    "from folium.plugins import MarkerCluster\n",
    "from folium.plugins import FastMarkerCluster\n",
    "from folium import plugins"
   ]
  },
  {
   "cell_type": "code",
   "execution_count": null,
   "metadata": {},
   "outputs": [],
   "source": [
    "# Define Chicago's geolocation coordinates\n",
    "chicago_latitude = 41.85  \n",
    "chicago_longitude = -87.75\n",
    "\n",
    "# Define the world map centered around Chicago with a higher zoom level\n",
    "chicago_map = folium.Map(location=[chicago_latitude, chicago_longitude], zoom_start=11)\n",
    "\n",
    "# display world map\n",
    "chicago_map\n",
    "\n",
    "# Instantiate a feature group for the incidents in the dataframe\n",
    "incidents = folium.map.FeatureGroup()\n",
    "\n",
    "# loop through the 100 crimes and add each to the incidents feature group\n",
    "for lat, lng, col in zip(df_top_crimes_august.latitude, \n",
    "                         df_top_crimes_august.longitude, \n",
    "                         df_top_crimes_august.colour):\n",
    "    incidents.add_child(\n",
    "        folium.features.CircleMarker(\n",
    "            [lat, lng],\n",
    "            radius=1, # define how big you want the circle markers to be\n",
    "            color=col,\n",
    "            fill=True,\n",
    "            fill_color=col,\n",
    "            fill_opacity=0.6\n",
    "        )\n",
    "    )\n",
    "\n",
    "# add incidents to map\n",
    "chicago_map.add_child(incidents)"
   ]
  },
  {
   "cell_type": "code",
   "execution_count": null,
   "metadata": {},
   "outputs": [],
   "source": [
    "mc = MarkerCluster()\n",
    "\n",
    "# Define the world map centered around Chicago with a higher zoom level\n",
    "chicago_cluster = folium.Map(location=[chicago_latitude, chicago_longitude], zoom_start=11)\n",
    "\n",
    "# display world map\n",
    "chicago_cluster\n",
    "\n",
    "#creating a Marker for each point in df_sample. Each point will get a popup with their zip\n",
    "for row in df_top_crimes_august.itertuples():\n",
    "    mc.add_child(folium.Marker(\n",
    "        location=[row.latitude,  row.longitude],\n",
    "                 popup=row.primary_description))\n",
    " \n",
    "chicago_cluster.add_child(mc)\n",
    "chicago_cluster"
   ]
  },
  {
   "cell_type": "code",
   "execution_count": null,
   "metadata": {},
   "outputs": [],
   "source": [
    "from folium import plugins\n",
    "from folium.plugins import HeatMap\n",
    "\n",
    "chicago_heatmat = folium.Map(location=[chicago_latitude, chicago_longitude], zoom_start=11) \n",
    "\n",
    "# List comprehension to make out list of lists\n",
    "heat_data = [[row['latitude'], \n",
    "              row['longitude']] for index, row in df_top_crimes_august.iterrows()]\n",
    "\n",
    "# Plot it on the map\n",
    "HeatMap(heat_data,\n",
    "        min_opacity=0.5,\n",
    "        max_zoom=18, \n",
    "        max_val=1.0, \n",
    "        radius=15,\n",
    "        blur=20,\n",
    "        gradient=None,\n",
    "        overlay=True).add_to(chicago_heatmat)\n",
    "\n",
    "# Display the map\n",
    "chicago_heatmat"
   ]
  }
 ],
 "metadata": {
  "kernelspec": {
   "display_name": "Python [conda root]",
   "language": "python",
   "name": "conda-root-py"
  },
  "language_info": {
   "codemirror_mode": {
    "name": "ipython",
    "version": 3
   },
   "file_extension": ".py",
   "mimetype": "text/x-python",
   "name": "python",
   "nbconvert_exporter": "python",
   "pygments_lexer": "ipython3",
   "version": "3.5.6"
  }
 },
 "nbformat": 4,
 "nbformat_minor": 2
}
