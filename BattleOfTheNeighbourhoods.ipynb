{
 "cells": [
  {
   "cell_type": "code",
   "execution_count": null,
   "metadata": {},
   "outputs": [],
   "source": []
  },
  {
   "cell_type": "markdown",
   "metadata": {},
   "source": [
    "---\n",
    "\n",
    "# Import Libraries\n",
    "\n",
    "In this section we import the libraries that will be required to process the data.\n",
    "\n",
    "The first library is **Pandas**.  \n",
    "Pandas is an open source, BSD-licensed library, providing high-performance, easy-to-use data structures and data analysis tools for the Python programming language."
   ]
  },
  {
   "cell_type": "code",
   "execution_count": 1,
   "metadata": {},
   "outputs": [],
   "source": [
    "# Import Pandas and Numpy to provide DataFrame support\n",
    "import pandas as pd\n",
    "pd.set_option('display.max_columns', None)\n",
    "pd.set_option('display.max_rows', None)\n",
    "\n",
    "import numpy as np"
   ]
  },
  {
   "cell_type": "code",
   "execution_count": 2,
   "metadata": {},
   "outputs": [],
   "source": [
    "# Use the inline backend to generate the plots within the browser\n",
    "%matplotlib inline \n",
    "\n",
    "import matplotlib as mpl\n",
    "import matplotlib.pyplot as plt\n",
    "\n",
    "import seaborn as sns\n",
    "sns.set_style(\"darkgrid\")\n",
    "\n",
    "font = {'size'   : 12}\n",
    "mpl.rc('font', **font)"
   ]
  },
  {
   "cell_type": "code",
   "execution_count": 3,
   "metadata": {},
   "outputs": [],
   "source": [
    "# Use Folium to display the Maps for Visualisation\n",
    "import folium\n",
    "from folium.plugins import MarkerCluster\n",
    "from folium.plugins import FastMarkerCluster\n",
    "from folium import plugins\n",
    "\n",
    "# Module to convert an address into latitude and longitude values\n",
    "from geopy.geocoders import Nominatim \n"
   ]
  },
  {
   "cell_type": "code",
   "execution_count": 5,
   "metadata": {},
   "outputs": [],
   "source": [
    "import yaml\n",
    "\n",
    "with open(\"./capstone_data/config.yaml\", \"r\") as f:\n",
    "    cfg = yaml.load(f)\n",
    " \n",
    "search_params = {\n",
    "    'client_id': cfg['client_id'],\n",
    "    'client_secret': cfg['client_secret'],\n",
    "    'intent': 'browse',\n",
    "    'limit': 50,\n",
    "    'v': cfg['version']\n",
    "}"
   ]
  },
  {
   "cell_type": "code",
   "execution_count": 7,
   "metadata": {},
   "outputs": [],
   "source": [
    "# All the SciKit Learn Libraries Required\n",
    "from sklearn import preprocessing\n",
    "from sklearn.model_selection import train_test_split\n",
    "from sklearn.neighbors import KNeighborsClassifier\n",
    "from sklearn.naive_bayes import BernoulliNB\n",
    "from sklearn.ensemble import RandomForestClassifier\n",
    "from sklearn import metrics\n",
    "from sklearn.model_selection import KFold, cross_val_score\n",
    "\n",
    "def cross_validate(model, n_splits = 10):\n",
    "    \n",
    "    k_fold = KFold(n_splits = n_splits)\n",
    "    scores = [model.fit(X[train], y[train]).score(X[test], y[test]) for train, test in k_fold.split(X)]\n",
    "    \n",
    "    scores = np.percentile(scores, [40, 50, 60])\n",
    "    return scores\n",
    "\n",
    "\n"
   ]
  },
  {
   "cell_type": "markdown",
   "metadata": {},
   "source": [
    "---\n",
    "\n",
    "# Import and process the Chicago Crime DataSet\n",
    "This dataset reflects reported incidents of crime (with the exception of murders where data exists for each victim) that occurred in the City of Chicago in the last year, minus the most recent seven days. Data is extracted from the Chicago Police Department's CLEAR (Citizen Law Enforcement Analysis and Reporting) system. In order to protect the privacy of crime victims, addresses are shown at the block level only and specific locations are not identified.\n",
    "\n",
    "| Column Name   | Type          | Description                                            | \n",
    "| :------------ | :------------ | :----------------------------------------------------- | \n",
    "| CASE#         | Plain Text    | The Chicago Police Department RD Number (Records Division Number), which is unique to the incident. | \n",
    "| DATE OF OCCURRENCE | Date & Time   | Date when the incident occurred. this is sometimes a best estimate. |\n",
    "| BLOCK\t        | Plain Text    | The partially redacted address where the incident occurred, placing it on the same block as the actual address. |\n",
    "| IUCR\t        | Plain Text    | The Illinois Unifrom Crime Reporting code. This is directly linked to the Primary Type and Description. See the list of IUCR codes at https://data.cityofchicago.org/d/c7ck-438e. |\n",
    "| PRIMARY DESCRIPTION   | Plain Text    | The primary description of the IUCR code. |\n",
    "| SECONDARY DESCRIPTION\t| Plain Text    | The secondary description of the IUCR code, a subcategory of the primary description. |\n",
    "| LOCATION DESCRIPTION | Plain Text | Description of the location where the incident occurred. |\n",
    "| ARREST        | Plain Text    | Indicates whether an arrest was made. |\n",
    "| DOMESTIC      | Plain Text    | Indicates whether the incident was domestic-related as defined by the Illinois Domestic Violence Act. |\n",
    "| BEAT          | Plain Text    | Indicates the beat where the incident occurred. A beat is the smallest police geographic area – each beat has a dedicated police beat car. Three to five beats make up a police sector, and three sectors make up a police district. The Chicago Police Department has 22 police districts. See the beats at https://data.cityofchicago.org/d/aerh-rz74. |\n",
    "| WARD\t        | Number        | The ward (City Council district) where the incident occurred. See the wards at https://data.cityofchicago.org/d/sp34-6z76. |\n",
    "| FBI CD        | Plain Text    | Indicates the crime classification as outlined in the FBI's National Incident-Based Reporting System (NIBRS). See the Chicago Police Department listing of these classifications at http://gis.chicagopolice.org/clearmap_crime_sums/crime_types.html. |\n",
    "| X COORDINATE\t| Plain Text    | The x coordinate of the location where the incident occurred in State Plane Illinois East NAD 1983 projection. This location is shifted from the actual location for partial redaction but falls on the same block. |\n",
    "| Y COORDINATE\t| Plain Text    | The y coordinate of the location where the incident occurred in State Plane Illinois East NAD 1983 projection. This location is shifted from the actual location for partial redaction but falls on the same block. |\n",
    "| LATITUDE\t    | Number        | The latitude of the location where the incident occurred. This location is shifted from the actual location for partial redaction but falls on the same block. |\n",
    "| LONGITUDE\t    | Number        | The longitude of the location where the incident occurred. This location is shifted from the actual location for partial redaction but falls on the same block. |\n",
    "| LOCATION\t    | Location      | The location where the incident occurred in a format that allows for creation of maps and other geographic operations on this data portal. This location is shifted from the actual location for partial redaction but falls on the same block. |\n",
    "\t\n",
    "\n",
    "\n"
   ]
  },
  {
   "cell_type": "markdown",
   "metadata": {
    "collapsed": true
   },
   "source": [
    "### Import the 2018 DataSet\n",
    "\n",
    "The full dataset, 2001 to 2018 contains over 6.7M rows. This makes processing the dataset difficult and time consuming. Only the 2018 data, 187222 records, will be used. In addition, the following clean-up steps are required:\n",
    "1. Not all of the columns are required. The following columns are removed:\n",
    "    1. IUCR\n",
    "    1. ARREST\n",
    "    1. DOMESTIC\n",
    "    1. BEAT\n",
    "    1. WARD\n",
    "    1. FBI CD\n",
    "    1. X COORDINATE\n",
    "    1. Y COORDINATE\n",
    "    1. LOCATION"
   ]
  },
  {
   "cell_type": "code",
   "execution_count": 31,
   "metadata": {},
   "outputs": [],
   "source": [
    "# These are the columns that we want to keep.\n",
    "# Columns not listed here won't be imported, speeding things up.\n",
    "crime_keep_columns = ['CASE#',\n",
    "                      'DATE  OF OCCURRENCE',\n",
    "                      'BLOCK', \n",
    "                      ' PRIMARY DESCRIPTION',\n",
    "                      'WARD',\n",
    "                      'LATITUDE',\n",
    "                      'LONGITUDE']\n",
    "\n",
    "# Download csv\n",
    "# !wget -O crimes.csv https://data.cityofchicago.org/api/views/x2n5-8w5q/rows.csv?accessType=DOWNLOAD\n",
    "\n",
    "# Read from local\n",
    "df = pd.read_csv('./capstone_data/crimes.csv',\n",
    "                 usecols=crime_keep_columns)"
   ]
  },
  {
   "cell_type": "markdown",
   "metadata": {},
   "source": [
    "Looking at the Shape of df we can see that only 12 columns have been imported instead of all 22."
   ]
  },
  {
   "cell_type": "code",
   "execution_count": 32,
   "metadata": {},
   "outputs": [
    {
     "data": {
      "text/plain": [
       "(264272, 7)"
      ]
     },
     "execution_count": 32,
     "metadata": {},
     "output_type": "execute_result"
    }
   ],
   "source": [
    "df.shape"
   ]
  },
  {
   "cell_type": "markdown",
   "metadata": {},
   "source": [
    "Let's have a quick look at the Head of the imported data"
   ]
  },
  {
   "cell_type": "code",
   "execution_count": 34,
   "metadata": {},
   "outputs": [
    {
     "data": {
      "text/html": [
       "<div>\n",
       "<style scoped>\n",
       "    .dataframe tbody tr th:only-of-type {\n",
       "        vertical-align: middle;\n",
       "    }\n",
       "\n",
       "    .dataframe tbody tr th {\n",
       "        vertical-align: top;\n",
       "    }\n",
       "\n",
       "    .dataframe thead th {\n",
       "        text-align: right;\n",
       "    }\n",
       "</style>\n",
       "<table border=\"1\" class=\"dataframe\">\n",
       "  <thead>\n",
       "    <tr style=\"text-align: right;\">\n",
       "      <th></th>\n",
       "      <th>CASE#</th>\n",
       "      <th>DATE  OF OCCURRENCE</th>\n",
       "      <th>BLOCK</th>\n",
       "      <th>PRIMARY DESCRIPTION</th>\n",
       "      <th>WARD</th>\n",
       "      <th>LATITUDE</th>\n",
       "      <th>LONGITUDE</th>\n",
       "    </tr>\n",
       "  </thead>\n",
       "  <tbody>\n",
       "    <tr>\n",
       "      <th>0</th>\n",
       "      <td>JB241987</td>\n",
       "      <td>04/28/2018 10:05:00 PM</td>\n",
       "      <td>009XX N LONG AVE</td>\n",
       "      <td>NARCOTICS</td>\n",
       "      <td>37.0</td>\n",
       "      <td>41.897895</td>\n",
       "      <td>-87.760744</td>\n",
       "    </tr>\n",
       "    <tr>\n",
       "      <th>1</th>\n",
       "      <td>JB241350</td>\n",
       "      <td>04/28/2018 08:00:00 AM</td>\n",
       "      <td>008XX E 53RD ST</td>\n",
       "      <td>CRIMINAL DAMAGE</td>\n",
       "      <td>5.0</td>\n",
       "      <td>41.798635</td>\n",
       "      <td>-87.604823</td>\n",
       "    </tr>\n",
       "    <tr>\n",
       "      <th>2</th>\n",
       "      <td>JB245397</td>\n",
       "      <td>04/28/2018 09:00:00 AM</td>\n",
       "      <td>062XX S MICHIGAN AVE</td>\n",
       "      <td>THEFT</td>\n",
       "      <td>20.0</td>\n",
       "      <td>41.780946</td>\n",
       "      <td>-87.621995</td>\n",
       "    </tr>\n",
       "    <tr>\n",
       "      <th>3</th>\n",
       "      <td>JB241444</td>\n",
       "      <td>04/28/2018 12:15:00 PM</td>\n",
       "      <td>046XX N ELSTON AVE</td>\n",
       "      <td>THEFT</td>\n",
       "      <td>39.0</td>\n",
       "      <td>41.965404</td>\n",
       "      <td>-87.736202</td>\n",
       "    </tr>\n",
       "    <tr>\n",
       "      <th>4</th>\n",
       "      <td>JB241667</td>\n",
       "      <td>04/28/2018 04:28:00 PM</td>\n",
       "      <td>022XX S KENNETH AVE</td>\n",
       "      <td>ARSON</td>\n",
       "      <td>22.0</td>\n",
       "      <td>41.850673</td>\n",
       "      <td>-87.735597</td>\n",
       "    </tr>\n",
       "  </tbody>\n",
       "</table>\n",
       "</div>"
      ],
      "text/plain": [
       "      CASE#     DATE  OF OCCURRENCE                 BLOCK  \\\n",
       "0  JB241987  04/28/2018 10:05:00 PM      009XX N LONG AVE   \n",
       "1  JB241350  04/28/2018 08:00:00 AM       008XX E 53RD ST   \n",
       "2  JB245397  04/28/2018 09:00:00 AM  062XX S MICHIGAN AVE   \n",
       "3  JB241444  04/28/2018 12:15:00 PM    046XX N ELSTON AVE   \n",
       "4  JB241667  04/28/2018 04:28:00 PM   022XX S KENNETH AVE   \n",
       "\n",
       "   PRIMARY DESCRIPTION  WARD   LATITUDE  LONGITUDE  \n",
       "0            NARCOTICS  37.0  41.897895 -87.760744  \n",
       "1      CRIMINAL DAMAGE   5.0  41.798635 -87.604823  \n",
       "2                THEFT  20.0  41.780946 -87.621995  \n",
       "3                THEFT  39.0  41.965404 -87.736202  \n",
       "4                ARSON  22.0  41.850673 -87.735597  "
      ]
     },
     "execution_count": 34,
     "metadata": {},
     "output_type": "execute_result"
    }
   ],
   "source": [
    "df.head()"
   ]
  },
  {
   "cell_type": "code",
   "execution_count": 35,
   "metadata": {},
   "outputs": [
    {
     "data": {
      "text/html": [
       "<div>\n",
       "<style scoped>\n",
       "    .dataframe tbody tr th:only-of-type {\n",
       "        vertical-align: middle;\n",
       "    }\n",
       "\n",
       "    .dataframe tbody tr th {\n",
       "        vertical-align: top;\n",
       "    }\n",
       "\n",
       "    .dataframe thead th {\n",
       "        text-align: right;\n",
       "    }\n",
       "</style>\n",
       "<table border=\"1\" class=\"dataframe\">\n",
       "  <thead>\n",
       "    <tr style=\"text-align: right;\">\n",
       "      <th></th>\n",
       "      <th>CASE#</th>\n",
       "      <th>DATE  OF OCCURRENCE</th>\n",
       "      <th>BLOCK</th>\n",
       "      <th>PRIMARY DESCRIPTION</th>\n",
       "      <th>WARD</th>\n",
       "      <th>LATITUDE</th>\n",
       "      <th>LONGITUDE</th>\n",
       "    </tr>\n",
       "  </thead>\n",
       "  <tbody>\n",
       "    <tr>\n",
       "      <th>264267</th>\n",
       "      <td>JA525920</td>\n",
       "      <td>11/26/2017 02:02:00 PM</td>\n",
       "      <td>081XX S ASHLAND AVE</td>\n",
       "      <td>THEFT</td>\n",
       "      <td>21.0</td>\n",
       "      <td>41.746260</td>\n",
       "      <td>-87.663332</td>\n",
       "    </tr>\n",
       "    <tr>\n",
       "      <th>264268</th>\n",
       "      <td>JA475906</td>\n",
       "      <td>10/18/2017 01:31:00 PM</td>\n",
       "      <td>048XX N SHERIDAN RD</td>\n",
       "      <td>ASSAULT</td>\n",
       "      <td>46.0</td>\n",
       "      <td>41.969326</td>\n",
       "      <td>-87.654826</td>\n",
       "    </tr>\n",
       "    <tr>\n",
       "      <th>264269</th>\n",
       "      <td>JA534571</td>\n",
       "      <td>12/03/2017 03:18:00 AM</td>\n",
       "      <td>002XX W 38TH PL</td>\n",
       "      <td>BATTERY</td>\n",
       "      <td>3.0</td>\n",
       "      <td>41.824547</td>\n",
       "      <td>-87.633096</td>\n",
       "    </tr>\n",
       "    <tr>\n",
       "      <th>264270</th>\n",
       "      <td>JA492228</td>\n",
       "      <td>10/30/2017 04:00:00 PM</td>\n",
       "      <td>072XX S SOUTH SHORE DR</td>\n",
       "      <td>THEFT</td>\n",
       "      <td>7.0</td>\n",
       "      <td>41.764728</td>\n",
       "      <td>-87.561272</td>\n",
       "    </tr>\n",
       "    <tr>\n",
       "      <th>264271</th>\n",
       "      <td>JA536019</td>\n",
       "      <td>12/02/2017 08:00:00 PM</td>\n",
       "      <td>083XX S INDIANA AVE</td>\n",
       "      <td>CRIMINAL DAMAGE</td>\n",
       "      <td>6.0</td>\n",
       "      <td>41.742865</td>\n",
       "      <td>-87.619547</td>\n",
       "    </tr>\n",
       "  </tbody>\n",
       "</table>\n",
       "</div>"
      ],
      "text/plain": [
       "           CASE#     DATE  OF OCCURRENCE                   BLOCK  \\\n",
       "264267  JA525920  11/26/2017 02:02:00 PM     081XX S ASHLAND AVE   \n",
       "264268  JA475906  10/18/2017 01:31:00 PM     048XX N SHERIDAN RD   \n",
       "264269  JA534571  12/03/2017 03:18:00 AM         002XX W 38TH PL   \n",
       "264270  JA492228  10/30/2017 04:00:00 PM  072XX S SOUTH SHORE DR   \n",
       "264271  JA536019  12/02/2017 08:00:00 PM     083XX S INDIANA AVE   \n",
       "\n",
       "        PRIMARY DESCRIPTION  WARD   LATITUDE  LONGITUDE  \n",
       "264267                THEFT  21.0  41.746260 -87.663332  \n",
       "264268              ASSAULT  46.0  41.969326 -87.654826  \n",
       "264269              BATTERY   3.0  41.824547 -87.633096  \n",
       "264270                THEFT   7.0  41.764728 -87.561272  \n",
       "264271      CRIMINAL DAMAGE   6.0  41.742865 -87.619547  "
      ]
     },
     "execution_count": 35,
     "metadata": {},
     "output_type": "execute_result"
    }
   ],
   "source": [
    "df.tail()"
   ]
  },
  {
   "cell_type": "markdown",
   "metadata": {},
   "source": [
    "---\n",
    "### Clean up the data and prepare\n",
    "\n",
    "The sample data file was downloaded in the middle of September. So half of September of 2017 was missing and half of September 2018 was not yet populated. To simply resolve this the raw data was altered to move the September 2017 dates to September 2018. \n",
    "\n",
    "Now that the data has been imported it needs to be cleaned.\n",
    "1. Move September 2017 dates to September 2018\n",
    "1. Clean up the column names:\n",
    "    1. Strip leading & trailing whitespace\n",
    "    1. Replace multiple spaces with a single space\n",
    "    1. Remove # characters\n",
    "    1. Replace spaces with _\n",
    "    2. Convert to lowercase\n",
    "1. Change the date of occurance field to a date / time object\n",
    "1. Add new columns for:\n",
    "    1. Hour\n",
    "    1. Day\n",
    "    1. Month\n",
    "    1. Year\n",
    "    1. etc.\n",
    "1. Split Block into zip_code and street\n",
    "1. Verify that all rows have valid data"
   ]
  },
  {
   "cell_type": "code",
   "execution_count": 36,
   "metadata": {},
   "outputs": [],
   "source": [
    "# Strip leading & trailing whitespace\n",
    "df.columns = df.columns.str.strip()\n",
    "\n",
    "# Replace multiple spaces with a single space\n",
    "df.columns = df.columns.str.replace('\\s{2,}', ' ')\n",
    "\n",
    "# Replace # with blank\n",
    "df.columns = df.columns.str.replace('#', '')\n",
    "\n",
    "# Replace spaces with _\n",
    "df.columns = df.columns.str.replace(' ', '_')\n",
    "\n",
    "# Convert to lowercase\n",
    "df.columns = df.columns.str.lower()\n",
    "\n",
    "# Move September 2017 dates to September 2018\n",
    "df.date_of_occurrence.replace(to_replace=\"(09/\\\\d+)/2017\", value=r\"\\1/2018\", regex=True, inplace=True)"
   ]
  },
  {
   "cell_type": "code",
   "execution_count": 37,
   "metadata": {},
   "outputs": [
    {
     "data": {
      "text/plain": [
       "case                    object\n",
       "date_of_occurrence      object\n",
       "block                   object\n",
       "primary_description     object\n",
       "ward                   float64\n",
       "latitude               float64\n",
       "longitude              float64\n",
       "dtype: object"
      ]
     },
     "execution_count": 37,
     "metadata": {},
     "output_type": "execute_result"
    }
   ],
   "source": [
    "df.dtypes"
   ]
  },
  {
   "cell_type": "markdown",
   "metadata": {},
   "source": [
    "Change the date of occurance field to a date / time object"
   ]
  },
  {
   "cell_type": "code",
   "execution_count": 38,
   "metadata": {},
   "outputs": [],
   "source": [
    "df['date_of_occurrence'] =  pd.to_datetime(df['date_of_occurrence'], format='%m/%d/%Y %I:%M:%S %p')"
   ]
  },
  {
   "cell_type": "markdown",
   "metadata": {},
   "source": [
    "Add new columns for the hour, day, month and year of the crime:\n",
    "1. Hour\n",
    "1. Day Name\n",
    "1. Day of week (Tuesday is the first day)\n",
    "1. Month Name\n",
    "1. Month Number\n",
    "1. Year\n",
    "1. Year and Month"
   ]
  },
  {
   "cell_type": "code",
   "execution_count": 39,
   "metadata": {},
   "outputs": [],
   "source": [
    "df['hour'] = df['date_of_occurrence'].dt.hour\n",
    "df['day_name'] = df['date_of_occurrence'].dt.day_name()\n",
    "df['day'] = df['date_of_occurrence'].dt.dayofweek + 1\n",
    "df['month_name'] = df['date_of_occurrence'].dt.month_name()\n",
    "df['month'] = df['date_of_occurrence'].dt.month\n",
    "df['year'] = df['date_of_occurrence'].dt.year\n",
    "df['year_month'] = df['date_of_occurrence'].dt.to_period('M')"
   ]
  },
  {
   "cell_type": "markdown",
   "metadata": {},
   "source": [
    "Split Block into zip_code and street"
   ]
  },
  {
   "cell_type": "code",
   "execution_count": 40,
   "metadata": {},
   "outputs": [],
   "source": [
    "df['zip'] = df.block.str.split(' ').str[0]\n",
    "df['street'] = df.block.str.split(' ').str[1:].apply(', '.join)"
   ]
  },
  {
   "cell_type": "markdown",
   "metadata": {},
   "source": [
    "Verify that all rows have valid data"
   ]
  },
  {
   "cell_type": "code",
   "execution_count": 41,
   "metadata": {},
   "outputs": [
    {
     "data": {
      "text/plain": [
       "case                      0\n",
       "date_of_occurrence        0\n",
       "block                     0\n",
       "primary_description       0\n",
       "ward                      2\n",
       "latitude               2318\n",
       "longitude              2318\n",
       "hour                      0\n",
       "day_name                  0\n",
       "day                       0\n",
       "month_name                0\n",
       "month                     0\n",
       "year                      0\n",
       "year_month                0\n",
       "zip                       0\n",
       "street                    0\n",
       "dtype: int64"
      ]
     },
     "execution_count": 41,
     "metadata": {},
     "output_type": "execute_result"
    }
   ],
   "source": [
    "df.isna().sum()"
   ]
  },
  {
   "cell_type": "code",
   "execution_count": 42,
   "metadata": {},
   "outputs": [
    {
     "data": {
      "text/html": [
       "<div>\n",
       "<style scoped>\n",
       "    .dataframe tbody tr th:only-of-type {\n",
       "        vertical-align: middle;\n",
       "    }\n",
       "\n",
       "    .dataframe tbody tr th {\n",
       "        vertical-align: top;\n",
       "    }\n",
       "\n",
       "    .dataframe thead th {\n",
       "        text-align: right;\n",
       "    }\n",
       "</style>\n",
       "<table border=\"1\" class=\"dataframe\">\n",
       "  <thead>\n",
       "    <tr style=\"text-align: right;\">\n",
       "      <th></th>\n",
       "      <th>case</th>\n",
       "      <th>date_of_occurrence</th>\n",
       "      <th>block</th>\n",
       "      <th>primary_description</th>\n",
       "      <th>ward</th>\n",
       "      <th>latitude</th>\n",
       "      <th>longitude</th>\n",
       "      <th>hour</th>\n",
       "      <th>day_name</th>\n",
       "      <th>day</th>\n",
       "      <th>month_name</th>\n",
       "      <th>month</th>\n",
       "      <th>year</th>\n",
       "      <th>year_month</th>\n",
       "      <th>zip</th>\n",
       "      <th>street</th>\n",
       "    </tr>\n",
       "  </thead>\n",
       "  <tbody>\n",
       "    <tr>\n",
       "      <th>0</th>\n",
       "      <td>JB241987</td>\n",
       "      <td>2018-04-28 22:05:00</td>\n",
       "      <td>009XX N LONG AVE</td>\n",
       "      <td>NARCOTICS</td>\n",
       "      <td>37.0</td>\n",
       "      <td>41.897895</td>\n",
       "      <td>-87.760744</td>\n",
       "      <td>22</td>\n",
       "      <td>Saturday</td>\n",
       "      <td>6</td>\n",
       "      <td>April</td>\n",
       "      <td>4</td>\n",
       "      <td>2018</td>\n",
       "      <td>2018-04</td>\n",
       "      <td>009XX</td>\n",
       "      <td>N, LONG, AVE</td>\n",
       "    </tr>\n",
       "    <tr>\n",
       "      <th>1</th>\n",
       "      <td>JB241350</td>\n",
       "      <td>2018-04-28 08:00:00</td>\n",
       "      <td>008XX E 53RD ST</td>\n",
       "      <td>CRIMINAL DAMAGE</td>\n",
       "      <td>5.0</td>\n",
       "      <td>41.798635</td>\n",
       "      <td>-87.604823</td>\n",
       "      <td>8</td>\n",
       "      <td>Saturday</td>\n",
       "      <td>6</td>\n",
       "      <td>April</td>\n",
       "      <td>4</td>\n",
       "      <td>2018</td>\n",
       "      <td>2018-04</td>\n",
       "      <td>008XX</td>\n",
       "      <td>E, 53RD, ST</td>\n",
       "    </tr>\n",
       "    <tr>\n",
       "      <th>2</th>\n",
       "      <td>JB245397</td>\n",
       "      <td>2018-04-28 09:00:00</td>\n",
       "      <td>062XX S MICHIGAN AVE</td>\n",
       "      <td>THEFT</td>\n",
       "      <td>20.0</td>\n",
       "      <td>41.780946</td>\n",
       "      <td>-87.621995</td>\n",
       "      <td>9</td>\n",
       "      <td>Saturday</td>\n",
       "      <td>6</td>\n",
       "      <td>April</td>\n",
       "      <td>4</td>\n",
       "      <td>2018</td>\n",
       "      <td>2018-04</td>\n",
       "      <td>062XX</td>\n",
       "      <td>S, MICHIGAN, AVE</td>\n",
       "    </tr>\n",
       "    <tr>\n",
       "      <th>3</th>\n",
       "      <td>JB241444</td>\n",
       "      <td>2018-04-28 12:15:00</td>\n",
       "      <td>046XX N ELSTON AVE</td>\n",
       "      <td>THEFT</td>\n",
       "      <td>39.0</td>\n",
       "      <td>41.965404</td>\n",
       "      <td>-87.736202</td>\n",
       "      <td>12</td>\n",
       "      <td>Saturday</td>\n",
       "      <td>6</td>\n",
       "      <td>April</td>\n",
       "      <td>4</td>\n",
       "      <td>2018</td>\n",
       "      <td>2018-04</td>\n",
       "      <td>046XX</td>\n",
       "      <td>N, ELSTON, AVE</td>\n",
       "    </tr>\n",
       "    <tr>\n",
       "      <th>4</th>\n",
       "      <td>JB241667</td>\n",
       "      <td>2018-04-28 16:28:00</td>\n",
       "      <td>022XX S KENNETH AVE</td>\n",
       "      <td>ARSON</td>\n",
       "      <td>22.0</td>\n",
       "      <td>41.850673</td>\n",
       "      <td>-87.735597</td>\n",
       "      <td>16</td>\n",
       "      <td>Saturday</td>\n",
       "      <td>6</td>\n",
       "      <td>April</td>\n",
       "      <td>4</td>\n",
       "      <td>2018</td>\n",
       "      <td>2018-04</td>\n",
       "      <td>022XX</td>\n",
       "      <td>S, KENNETH, AVE</td>\n",
       "    </tr>\n",
       "  </tbody>\n",
       "</table>\n",
       "</div>"
      ],
      "text/plain": [
       "       case  date_of_occurrence                 block primary_description  \\\n",
       "0  JB241987 2018-04-28 22:05:00      009XX N LONG AVE           NARCOTICS   \n",
       "1  JB241350 2018-04-28 08:00:00       008XX E 53RD ST     CRIMINAL DAMAGE   \n",
       "2  JB245397 2018-04-28 09:00:00  062XX S MICHIGAN AVE               THEFT   \n",
       "3  JB241444 2018-04-28 12:15:00    046XX N ELSTON AVE               THEFT   \n",
       "4  JB241667 2018-04-28 16:28:00   022XX S KENNETH AVE               ARSON   \n",
       "\n",
       "   ward   latitude  longitude  hour  day_name  day month_name  month  year  \\\n",
       "0  37.0  41.897895 -87.760744    22  Saturday    6      April      4  2018   \n",
       "1   5.0  41.798635 -87.604823     8  Saturday    6      April      4  2018   \n",
       "2  20.0  41.780946 -87.621995     9  Saturday    6      April      4  2018   \n",
       "3  39.0  41.965404 -87.736202    12  Saturday    6      April      4  2018   \n",
       "4  22.0  41.850673 -87.735597    16  Saturday    6      April      4  2018   \n",
       "\n",
       "  year_month    zip            street  \n",
       "0    2018-04  009XX      N, LONG, AVE  \n",
       "1    2018-04  008XX       E, 53RD, ST  \n",
       "2    2018-04  062XX  S, MICHIGAN, AVE  \n",
       "3    2018-04  046XX    N, ELSTON, AVE  \n",
       "4    2018-04  022XX   S, KENNETH, AVE  "
      ]
     },
     "execution_count": 42,
     "metadata": {},
     "output_type": "execute_result"
    }
   ],
   "source": [
    "df.dropna(inplace=True)\n",
    "df.reindex()\n",
    "df.head()"
   ]
  },
  {
   "cell_type": "markdown",
   "metadata": {},
   "source": [
    "The data is now ready for visualisation."
   ]
  },
  {
   "cell_type": "markdown",
   "metadata": {},
   "source": [
    "---\n",
    "# Data Visualisation\n",
    "\n",
    "To get a better understanding of the data we will now visualise it."
   ]
  },
  {
   "cell_type": "markdown",
   "metadata": {},
   "source": [
    "### Number of Crimes per month"
   ]
  },
  {
   "cell_type": "code",
   "execution_count": 43,
   "metadata": {},
   "outputs": [
    {
     "data": {
      "text/plain": [
       "Text(0,1,'Count of Cases Per Month')"
      ]
     },
     "execution_count": 43,
     "metadata": {},
     "output_type": "execute_result"
    },
    {
     "data": {
      "image/png": "[encoded data removed]",
      "text/plain": [
       "<Figure size 720x432 with 1 Axes>"
      ]
     },
     "metadata": {
      "needs_background": "light"
     },
     "output_type": "display_data"
    }
   ],
   "source": [
    "df.groupby('year_month').count().plot(y = 'case', \n",
    "                                      kind='bar',\n",
    "                                      figsize=(10,6),\n",
    "                                      width=0.85,\n",
    "                                      fontsize=12,\n",
    "                                      colormap='tab20').legend(bbox_to_anchor=(1,1),\n",
    "                                                               prop={'size': 12})\n",
    "\n",
    "plt.xlabel('Month')\n",
    "plt.ylabel('Count of Cases')\n",
    "plt.title('Count of Cases Per Month', loc='left', fontsize=18)"
   ]
  },
  {
   "cell_type": "markdown",
   "metadata": {},
   "source": [
    "Unsuprisingly there little obvious variation in the number of crimes committed per month other than an apparent drop-off in February. "
   ]
  },
  {
   "cell_type": "markdown",
   "metadata": {},
   "source": [
    "### Number of crimes occuring on each day"
   ]
  },
  {
   "cell_type": "code",
   "execution_count": 44,
   "metadata": {},
   "outputs": [
    {
     "data": {
      "text/plain": [
       "Text(0,1,'Count of Cases Per Day of Week [1 is a Tuesday]')"
      ]
     },
     "execution_count": 44,
     "metadata": {},
     "output_type": "execute_result"
    },
    {
     "data": {
      "image/png": "[encoded data removed]",
      "text/plain": [
       "<Figure size 720x432 with 1 Axes>"
      ]
     },
     "metadata": {
      "needs_background": "light"
     },
     "output_type": "display_data"
    }
   ],
   "source": [
    "df.groupby('day').count().plot(y = 'case',\n",
    "                               kind='bar',\n",
    "                               figsize=(10,6),\n",
    "                               width=0.85,\n",
    "                               fontsize=12,\n",
    "                               colormap='tab20').legend(bbox_to_anchor=(1,1),\n",
    "                                                        prop={'size': 12})\n",
    "\n",
    "plt.xlabel('Day of Week')\n",
    "plt.ylabel('Count of Cases per Day')\n",
    "plt.title('Count of Cases Per Day of Week [1 is a Tuesday]', loc='left', fontsize=18)"
   ]
  },
  {
   "cell_type": "markdown",
   "metadata": {},
   "source": [
    "There is a small increase in crime reported at the weekend, Saturday and Sunday, but nothing that couldbe considered significant."
   ]
  },
  {
   "cell_type": "markdown",
   "metadata": {},
   "source": [
    "### Number of crimes occuring in each hour"
   ]
  },
  {
   "cell_type": "code",
   "execution_count": 45,
   "metadata": {},
   "outputs": [
    {
     "data": {
      "text/plain": [
       "Text(0,1,'Count of Cases Per Hour]')"
      ]
     },
     "execution_count": 45,
     "metadata": {},
     "output_type": "execute_result"
    },
    {
     "data": {
      "image/png": "[encoded data removed]",
      "text/plain": [
       "<Figure size 720x432 with 1 Axes>"
      ]
     },
     "metadata": {
      "needs_background": "light"
     },
     "output_type": "display_data"
    }
   ],
   "source": [
    "df.groupby('hour').count().plot(y = 'case',\n",
    "                               kind='bar',\n",
    "                               figsize=(10,6),\n",
    "                               width=0.85,\n",
    "                               fontsize=12,\n",
    "                               colormap='tab20').legend(bbox_to_anchor=(1,1),\n",
    "                                                        prop={'size': 12})\n",
    "\n",
    "plt.xlabel('Hour of Day')\n",
    "plt.ylabel('Count of Cases per Hour')\n",
    "plt.title('Count of Cases Per Hour]', loc='left', fontsize=18)"
   ]
  },
  {
   "cell_type": "markdown",
   "metadata": {},
   "source": [
    "There is an expected fall-off in reported crime rates after midnight and before eight in the morning."
   ]
  },
  {
   "cell_type": "markdown",
   "metadata": {},
   "source": [
    "Now let's look at the Crime Categories."
   ]
  },
  {
   "cell_type": "code",
   "execution_count": 46,
   "metadata": {},
   "outputs": [
    {
     "data": {
      "text/plain": [
       "32"
      ]
     },
     "execution_count": 46,
     "metadata": {},
     "output_type": "execute_result"
    }
   ],
   "source": [
    "# Number of unique Crime categories bases on the Primary Description\n",
    "df.primary_description.nunique()"
   ]
  },
  {
   "cell_type": "code",
   "execution_count": 47,
   "metadata": {},
   "outputs": [
    {
     "data": {
      "text/html": [
       "<div>\n",
       "<style scoped>\n",
       "    .dataframe tbody tr th:only-of-type {\n",
       "        vertical-align: middle;\n",
       "    }\n",
       "\n",
       "    .dataframe tbody tr th {\n",
       "        vertical-align: top;\n",
       "    }\n",
       "\n",
       "    .dataframe thead th {\n",
       "        text-align: right;\n",
       "    }\n",
       "</style>\n",
       "<table border=\"1\" class=\"dataframe\">\n",
       "  <thead>\n",
       "    <tr style=\"text-align: right;\">\n",
       "      <th></th>\n",
       "      <th>primary_description</th>\n",
       "      <th>case</th>\n",
       "    </tr>\n",
       "  </thead>\n",
       "  <tbody>\n",
       "    <tr>\n",
       "      <th>30</th>\n",
       "      <td>THEFT</td>\n",
       "      <td>63629</td>\n",
       "    </tr>\n",
       "    <tr>\n",
       "      <th>2</th>\n",
       "      <td>BATTERY</td>\n",
       "      <td>49498</td>\n",
       "    </tr>\n",
       "    <tr>\n",
       "      <th>6</th>\n",
       "      <td>CRIMINAL DAMAGE</td>\n",
       "      <td>27980</td>\n",
       "    </tr>\n",
       "  </tbody>\n",
       "</table>\n",
       "</div>"
      ],
      "text/plain": [
       "   primary_description   case\n",
       "30               THEFT  63629\n",
       "2              BATTERY  49498\n",
       "6      CRIMINAL DAMAGE  27980"
      ]
     },
     "execution_count": 47,
     "metadata": {},
     "output_type": "execute_result"
    }
   ],
   "source": [
    "# What Crimes are the 3 most commonly occuring ones \n",
    "df[['primary_description', 'case']].groupby(\n",
    "    ['primary_description'], as_index=False).count().sort_values('case', ascending=False).head(3)"
   ]
  },
  {
   "cell_type": "code",
   "execution_count": 48,
   "metadata": {},
   "outputs": [],
   "source": [
    "# Create a list of the 10 most commonly occuring crimes\n",
    "top_crimes = df[['primary_description', 'case']].groupby(\n",
    "    ['primary_description']).count().sort_values('case', ascending=False)[:10].axes[0].tolist()\n",
    "\n",
    "# Create a list of the 3 most commonly occuring crimes\n",
    "top_three_crimes = df[['primary_description', 'case']].groupby(\n",
    "    ['primary_description']).count().sort_values('case', ascending=False)[:3].axes[0].tolist()\n",
    "\n",
    "# Create a list of the 2 most commonly occuring crimes\n",
    "top_two_crimes = df[['primary_description', 'case']].groupby(\n",
    "    ['primary_description']).count().sort_values('case', ascending=False)[:2].axes[0].tolist()"
   ]
  },
  {
   "cell_type": "code",
   "execution_count": 49,
   "metadata": {},
   "outputs": [
    {
     "data": {
      "text/plain": [
       "<matplotlib.legend.Legend at 0x1a2553ec18>"
      ]
     },
     "execution_count": 49,
     "metadata": {},
     "output_type": "execute_result"
    },
    {
     "data": {
      "image/png": "[encoded data removed]",
      "text/plain": [
       "<Figure size 1080x432 with 1 Axes>"
      ]
     },
     "metadata": {
      "needs_background": "light"
     },
     "output_type": "display_data"
    }
   ],
   "source": [
    "# Create a new data frame with just the top 10 crimes\n",
    "df_top_crimes = df[df['primary_description'].isin(top_crimes)].copy()\n",
    "\n",
    "# Create a new data frame with just the top 10 crimes\n",
    "df_top3_crimes = df[df['primary_description'].isin(top_three_crimes)].copy()\n",
    "\n",
    "df_top3_crimes[['case', 'primary_description', 'year_month']].pivot_table(\n",
    "    index='year_month', \n",
    "    columns='primary_description', \n",
    "    fill_value=0, \n",
    "    aggfunc='count').plot(kind='area',\n",
    "                          stacked=True,\n",
    "                          figsize=(15, 6),\n",
    "                               fontsize=12,\n",
    "                               colormap='tab20').legend(bbox_to_anchor=(1,1),\n",
    "                                                        prop={'size': 12})"
   ]
  },
  {
   "cell_type": "code",
   "execution_count": 51,
   "metadata": {},
   "outputs": [
    {
     "data": {
      "text/plain": [
       "<matplotlib.legend.Legend at 0x1a28df60f0>"
      ]
     },
     "execution_count": 51,
     "metadata": {},
     "output_type": "execute_result"
    },
    {
     "data": {
      "image/png": "[encoded data removed]",
      "text/plain": [
       "<Figure size 1080x432 with 1 Axes>"
      ]
     },
     "metadata": {
      "needs_background": "light"
     },
     "output_type": "display_data"
    }
   ],
   "source": [
    "df_top3_crimes[['case', 'primary_description', 'hour']].pivot_table(\n",
    "    index='hour', \n",
    "    columns='primary_description', \n",
    "    fill_value=0, \n",
    "    aggfunc='count').plot(kind='area',\n",
    "                          stacked=True,\n",
    "                          figsize=(15, 6),\n",
    "                               fontsize=12,\n",
    "                               colormap='tab20').legend(bbox_to_anchor=(1,1),\n",
    "                                                        prop={'size': 12})"
   ]
  },
  {
   "cell_type": "markdown",
   "metadata": {},
   "source": [
    "### Visual Crimes on map of Chicago"
   ]
  },
  {
   "cell_type": "code",
   "execution_count": 84,
   "metadata": {},
   "outputs": [
    {
     "data": {
      "text/plain": [
       "case                           object\n",
       "date_of_occurrence     datetime64[ns]\n",
       "block                          object\n",
       "primary_description            object\n",
       "ward                          float64\n",
       "latitude                      float64\n",
       "longitude                     float64\n",
       "hour                            int64\n",
       "day_name                       object\n",
       "day                             int64\n",
       "month_name                     object\n",
       "month                           int64\n",
       "year                            int64\n",
       "year_month                     object\n",
       "zip                            object\n",
       "street                         object\n",
       "dtype: object"
      ]
     },
     "execution_count": 84,
     "metadata": {},
     "output_type": "execute_result"
    }
   ],
   "source": [
    "df_top_crimes.dtypes"
   ]
  },
  {
   "cell_type": "markdown",
   "metadata": {},
   "source": [
    "### Create a folium map with a different colour per crime\n",
    "\n",
    "Colour each of the top 10 crimes with a different and plot on a Folium map."
   ]
  },
  {
   "cell_type": "code",
   "execution_count": 85,
   "metadata": {},
   "outputs": [],
   "source": [
    "# Create a list of colours. \n",
    "# We have  list of the top 10 crimes from earlier\n",
    "colors = [\n",
    "    'red',\n",
    "    'blue',\n",
    "    'gray',\n",
    "    'orange',\n",
    "    'beige',\n",
    "    'green',\n",
    "    'purple',\n",
    "    'pink',\n",
    "    'cadetblue',\n",
    "    'black'\n",
    "]\n",
    "\n",
    "# Create a dictionary of colours to map to the crimes\n",
    "dict_colours = dict(zip(top_crimes, colors))\n",
    "\n",
    "# Add the colours colums to the df_top_crimes DataFrame\n",
    "df_top_crimes['colour'] = df_top_crimes.primary_description.map(dict_colours)"
   ]
  },
  {
   "cell_type": "markdown",
   "metadata": {},
   "source": [
    "The entire `df_top_crimes` DataFrame contains too many point to disply effeciently using Folium. To combat this we will just use the data from August 2018."
   ]
  },
  {
   "cell_type": "code",
   "execution_count": 86,
   "metadata": {},
   "outputs": [],
   "source": [
    "df_top_crimes_august = df_top_crimes[df_top_crimes.month_name == 'August']\n",
    "\n",
    "# Pickle the DataFrame to Separate the Folium Maps into a Separate Notepad\n",
    "df_top_crimes_august.to_pickle('crimes_august.pkl')"
   ]
  },
  {
   "cell_type": "markdown",
   "metadata": {},
   "source": [
    "```python\n",
    "# Define Chicago's geolocation coordinates\n",
    "chicago_latitude = 41.85  \n",
    "chicago_longitude = -87.75\n",
    "\n",
    "# Define the world map centered around Chicago with a higher zoom level\n",
    "chicago_map = folium.Map(location=[chicago_latitude, chicago_longitude], zoom_start=11)\n",
    "\n",
    "# display world map\n",
    "chicago_map\n",
    "\n",
    "# Instantiate a feature group for the incidents in the dataframe\n",
    "incidents = folium.map.FeatureGroup()\n",
    "\n",
    "# loop through the 100 crimes and add each to the incidents feature group\n",
    "for lat, lng, col in zip(df_top_crimes_august.latitude, \n",
    "                         df_top_crimes_august.longitude, \n",
    "                         df_top_crimes_august.colour):\n",
    "    incidents.add_child(\n",
    "        folium.features.CircleMarker(\n",
    "            [lat, lng],\n",
    "            radius=1, # define how big you want the circle markers to be\n",
    "            color=col,\n",
    "            fill=True,\n",
    "            fill_color=col,\n",
    "            fill_opacity=0.6\n",
    "        )\n",
    "    )\n",
    "\n",
    "# add incidents to map\n",
    "chicago_map.add_child(incidents)```"
   ]
  },
  {
   "cell_type": "markdown",
   "metadata": {},
   "source": [
    "![Markers image of Chicago](./capstone_images/markers.jpg)"
   ]
  },
  {
   "cell_type": "code",
   "execution_count": null,
   "metadata": {},
   "outputs": [],
   "source": []
  },
  {
   "cell_type": "code",
   "execution_count": null,
   "metadata": {},
   "outputs": [],
   "source": []
  },
  {
   "cell_type": "code",
   "execution_count": null,
   "metadata": {},
   "outputs": [],
   "source": []
  },
  {
   "cell_type": "markdown",
   "metadata": {},
   "source": [
    "```python\n",
    "mc = MarkerCluster()\n",
    "\n",
    "# Define the world map centered around Chicago with a higher zoom level\n",
    "chicago_cluster = folium.Map(location=[chicago_latitude, chicago_longitude], zoom_start=11)\n",
    "\n",
    "# display world map\n",
    "chicago_cluster\n",
    "\n",
    "#creating a Marker for each point in df_sample. Each point will get a popup with their zip\n",
    "for row in df_top_crimes_august.itertuples():\n",
    "    mc.add_child(folium.Marker(\n",
    "        location=[row.latitude,  row.longitude],\n",
    "                 popup=row.primary_description))\n",
    " \n",
    "chicago_cluster.add_child(mc)\n",
    "chicago_cluster```"
   ]
  },
  {
   "cell_type": "markdown",
   "metadata": {},
   "source": [
    "![Clusters image of Chicago](./capstone_images/clusters.jpg)"
   ]
  },
  {
   "cell_type": "code",
   "execution_count": null,
   "metadata": {},
   "outputs": [],
   "source": []
  },
  {
   "cell_type": "code",
   "execution_count": null,
   "metadata": {},
   "outputs": [],
   "source": []
  },
  {
   "cell_type": "markdown",
   "metadata": {},
   "source": [
    "```python\n",
    "from folium import plugins\n",
    "from folium.plugins import HeatMap\n",
    "\n",
    "chicago_heatmat = folium.Map(location=[chicago_latitude, chicago_longitude], zoom_start=11) \n",
    "\n",
    "# List comprehension to make out list of lists\n",
    "heat_data = [[row['latitude'], \n",
    "              row['longitude']] for index, row in df_top_crimes_august.iterrows()]\n",
    "\n",
    "# Plot it on the map\n",
    "HeatMap(heat_data,\n",
    "        min_opacity=0.5,\n",
    "        max_zoom=18, \n",
    "        max_val=1.0, \n",
    "        radius=15,\n",
    "        blur=20,\n",
    "        gradient=None,\n",
    "        overlay=True).add_to(chicago_heatmat)\n",
    "\n",
    "# Display the map\n",
    "chicago_heatmat```"
   ]
  },
  {
   "cell_type": "markdown",
   "metadata": {},
   "source": [
    "![Heatmap image of Chicago](./capstone_images/heatmap.jpg)"
   ]
  },
  {
   "cell_type": "code",
   "execution_count": null,
   "metadata": {},
   "outputs": [],
   "source": []
  },
  {
   "cell_type": "code",
   "execution_count": 107,
   "metadata": {},
   "outputs": [
    {
     "data": {
      "text/plain": [
       "case                           object\n",
       "date_of_occurrence     datetime64[ns]\n",
       "block                          object\n",
       "primary_description            object\n",
       "ward                          float64\n",
       "latitude                      float64\n",
       "longitude                     float64\n",
       "hour                            int64\n",
       "day_name                       object\n",
       "day                             int64\n",
       "month_name                     object\n",
       "month                           int64\n",
       "year                            int64\n",
       "year_month                     object\n",
       "zip                            object\n",
       "street                         object\n",
       "colour                         object\n",
       "dtype: object"
      ]
     },
     "execution_count": 107,
     "metadata": {},
     "output_type": "execute_result"
    }
   ],
   "source": [
    "df_top_crimes.dtypes"
   ]
  },
  {
   "cell_type": "code",
   "execution_count": null,
   "metadata": {},
   "outputs": [],
   "source": []
  },
  {
   "cell_type": "markdown",
   "metadata": {},
   "source": [
    "# Data Preparation for Modelling\n",
    "\n",
    "Before we start modelling we need to prepare the data frame to include only mumerical data and by removing unneeded columns.\n",
    "\n",
    "Rather than removing colums from `df_top_crimes` a new `df_features` DataFrame will be created with just the required columns. This `df_features` DataFrame will then be processed to remove Categorical Data Types and replace them with One Hot encoding. Finally the Dependant Variables will be Normalised and Principal Component Analysis will be used to reduce the dimensionality of the DataFrame."
   ]
  },
  {
   "cell_type": "code",
   "execution_count": 161,
   "metadata": {},
   "outputs": [],
   "source": [
    "# Start by copying the Latitude and Longitude to the new DataFrame\n",
    "df_features = df_top_crimes[['latitude', 'longitude']]\n",
    "\n",
    "# Next and One Hot Encoding of the hour, day and month variables\n",
    "df_features = df_features.join(pd.get_dummies(df_top_crimes.hour, prefix='hour'))\n",
    "df_features = df_features.join(pd.get_dummies(df_top_crimes.day_name))\n",
    "df_features = df_features.join(pd.get_dummies(df_top_crimes.month_name))\n",
    "\n",
    "# Finally add the ward & crimes column, copied from the original Primary Description column\n",
    "df_features['ward'] = df_top_crimes[['ward']]\n",
    "df_features['crimes'] = df_top_crimes[['primary_description']]"
   ]
  },
  {
   "cell_type": "code",
   "execution_count": 155,
   "metadata": {},
   "outputs": [
    {
     "data": {
      "text/html": [
       "<div>\n",
       "<style scoped>\n",
       "    .dataframe tbody tr th:only-of-type {\n",
       "        vertical-align: middle;\n",
       "    }\n",
       "\n",
       "    .dataframe tbody tr th {\n",
       "        vertical-align: top;\n",
       "    }\n",
       "\n",
       "    .dataframe thead th {\n",
       "        text-align: right;\n",
       "    }\n",
       "</style>\n",
       "<table border=\"1\" class=\"dataframe\">\n",
       "  <thead>\n",
       "    <tr style=\"text-align: right;\">\n",
       "      <th></th>\n",
       "      <th>latitude</th>\n",
       "      <th>longitude</th>\n",
       "      <th>hour_0</th>\n",
       "      <th>hour_1</th>\n",
       "      <th>hour_2</th>\n",
       "      <th>hour_3</th>\n",
       "      <th>hour_4</th>\n",
       "      <th>hour_5</th>\n",
       "      <th>hour_6</th>\n",
       "      <th>hour_7</th>\n",
       "      <th>hour_8</th>\n",
       "      <th>hour_9</th>\n",
       "      <th>hour_10</th>\n",
       "      <th>hour_11</th>\n",
       "      <th>hour_12</th>\n",
       "      <th>hour_13</th>\n",
       "      <th>hour_14</th>\n",
       "      <th>hour_15</th>\n",
       "      <th>hour_16</th>\n",
       "      <th>hour_17</th>\n",
       "      <th>hour_18</th>\n",
       "      <th>hour_19</th>\n",
       "      <th>hour_20</th>\n",
       "      <th>hour_21</th>\n",
       "      <th>hour_22</th>\n",
       "      <th>hour_23</th>\n",
       "      <th>Friday</th>\n",
       "      <th>Monday</th>\n",
       "      <th>Saturday</th>\n",
       "      <th>Sunday</th>\n",
       "      <th>Thursday</th>\n",
       "      <th>Tuesday</th>\n",
       "      <th>Wednesday</th>\n",
       "      <th>April</th>\n",
       "      <th>August</th>\n",
       "      <th>December</th>\n",
       "      <th>February</th>\n",
       "      <th>January</th>\n",
       "      <th>July</th>\n",
       "      <th>June</th>\n",
       "      <th>March</th>\n",
       "      <th>May</th>\n",
       "      <th>November</th>\n",
       "      <th>October</th>\n",
       "      <th>September</th>\n",
       "      <th>ward</th>\n",
       "      <th>crimes</th>\n",
       "    </tr>\n",
       "  </thead>\n",
       "  <tbody>\n",
       "    <tr>\n",
       "      <th>0</th>\n",
       "      <td>41.897895</td>\n",
       "      <td>-87.760744</td>\n",
       "      <td>0</td>\n",
       "      <td>0</td>\n",
       "      <td>0</td>\n",
       "      <td>0</td>\n",
       "      <td>0</td>\n",
       "      <td>0</td>\n",
       "      <td>0</td>\n",
       "      <td>0</td>\n",
       "      <td>0</td>\n",
       "      <td>0</td>\n",
       "      <td>0</td>\n",
       "      <td>0</td>\n",
       "      <td>0</td>\n",
       "      <td>0</td>\n",
       "      <td>0</td>\n",
       "      <td>0</td>\n",
       "      <td>0</td>\n",
       "      <td>0</td>\n",
       "      <td>0</td>\n",
       "      <td>0</td>\n",
       "      <td>0</td>\n",
       "      <td>0</td>\n",
       "      <td>1</td>\n",
       "      <td>0</td>\n",
       "      <td>0</td>\n",
       "      <td>0</td>\n",
       "      <td>1</td>\n",
       "      <td>0</td>\n",
       "      <td>0</td>\n",
       "      <td>0</td>\n",
       "      <td>0</td>\n",
       "      <td>1</td>\n",
       "      <td>0</td>\n",
       "      <td>0</td>\n",
       "      <td>0</td>\n",
       "      <td>0</td>\n",
       "      <td>0</td>\n",
       "      <td>0</td>\n",
       "      <td>0</td>\n",
       "      <td>0</td>\n",
       "      <td>0</td>\n",
       "      <td>0</td>\n",
       "      <td>0</td>\n",
       "      <td>37.0</td>\n",
       "      <td>NARCOTICS</td>\n",
       "    </tr>\n",
       "    <tr>\n",
       "      <th>1</th>\n",
       "      <td>41.798635</td>\n",
       "      <td>-87.604823</td>\n",
       "      <td>0</td>\n",
       "      <td>0</td>\n",
       "      <td>0</td>\n",
       "      <td>0</td>\n",
       "      <td>0</td>\n",
       "      <td>0</td>\n",
       "      <td>0</td>\n",
       "      <td>0</td>\n",
       "      <td>1</td>\n",
       "      <td>0</td>\n",
       "      <td>0</td>\n",
       "      <td>0</td>\n",
       "      <td>0</td>\n",
       "      <td>0</td>\n",
       "      <td>0</td>\n",
       "      <td>0</td>\n",
       "      <td>0</td>\n",
       "      <td>0</td>\n",
       "      <td>0</td>\n",
       "      <td>0</td>\n",
       "      <td>0</td>\n",
       "      <td>0</td>\n",
       "      <td>0</td>\n",
       "      <td>0</td>\n",
       "      <td>0</td>\n",
       "      <td>0</td>\n",
       "      <td>1</td>\n",
       "      <td>0</td>\n",
       "      <td>0</td>\n",
       "      <td>0</td>\n",
       "      <td>0</td>\n",
       "      <td>1</td>\n",
       "      <td>0</td>\n",
       "      <td>0</td>\n",
       "      <td>0</td>\n",
       "      <td>0</td>\n",
       "      <td>0</td>\n",
       "      <td>0</td>\n",
       "      <td>0</td>\n",
       "      <td>0</td>\n",
       "      <td>0</td>\n",
       "      <td>0</td>\n",
       "      <td>0</td>\n",
       "      <td>5.0</td>\n",
       "      <td>CRIMINAL DAMAGE</td>\n",
       "    </tr>\n",
       "    <tr>\n",
       "      <th>2</th>\n",
       "      <td>41.780946</td>\n",
       "      <td>-87.621995</td>\n",
       "      <td>0</td>\n",
       "      <td>0</td>\n",
       "      <td>0</td>\n",
       "      <td>0</td>\n",
       "      <td>0</td>\n",
       "      <td>0</td>\n",
       "      <td>0</td>\n",
       "      <td>0</td>\n",
       "      <td>0</td>\n",
       "      <td>1</td>\n",
       "      <td>0</td>\n",
       "      <td>0</td>\n",
       "      <td>0</td>\n",
       "      <td>0</td>\n",
       "      <td>0</td>\n",
       "      <td>0</td>\n",
       "      <td>0</td>\n",
       "      <td>0</td>\n",
       "      <td>0</td>\n",
       "      <td>0</td>\n",
       "      <td>0</td>\n",
       "      <td>0</td>\n",
       "      <td>0</td>\n",
       "      <td>0</td>\n",
       "      <td>0</td>\n",
       "      <td>0</td>\n",
       "      <td>1</td>\n",
       "      <td>0</td>\n",
       "      <td>0</td>\n",
       "      <td>0</td>\n",
       "      <td>0</td>\n",
       "      <td>1</td>\n",
       "      <td>0</td>\n",
       "      <td>0</td>\n",
       "      <td>0</td>\n",
       "      <td>0</td>\n",
       "      <td>0</td>\n",
       "      <td>0</td>\n",
       "      <td>0</td>\n",
       "      <td>0</td>\n",
       "      <td>0</td>\n",
       "      <td>0</td>\n",
       "      <td>0</td>\n",
       "      <td>20.0</td>\n",
       "      <td>THEFT</td>\n",
       "    </tr>\n",
       "    <tr>\n",
       "      <th>3</th>\n",
       "      <td>41.965404</td>\n",
       "      <td>-87.736202</td>\n",
       "      <td>0</td>\n",
       "      <td>0</td>\n",
       "      <td>0</td>\n",
       "      <td>0</td>\n",
       "      <td>0</td>\n",
       "      <td>0</td>\n",
       "      <td>0</td>\n",
       "      <td>0</td>\n",
       "      <td>0</td>\n",
       "      <td>0</td>\n",
       "      <td>0</td>\n",
       "      <td>0</td>\n",
       "      <td>1</td>\n",
       "      <td>0</td>\n",
       "      <td>0</td>\n",
       "      <td>0</td>\n",
       "      <td>0</td>\n",
       "      <td>0</td>\n",
       "      <td>0</td>\n",
       "      <td>0</td>\n",
       "      <td>0</td>\n",
       "      <td>0</td>\n",
       "      <td>0</td>\n",
       "      <td>0</td>\n",
       "      <td>0</td>\n",
       "      <td>0</td>\n",
       "      <td>1</td>\n",
       "      <td>0</td>\n",
       "      <td>0</td>\n",
       "      <td>0</td>\n",
       "      <td>0</td>\n",
       "      <td>1</td>\n",
       "      <td>0</td>\n",
       "      <td>0</td>\n",
       "      <td>0</td>\n",
       "      <td>0</td>\n",
       "      <td>0</td>\n",
       "      <td>0</td>\n",
       "      <td>0</td>\n",
       "      <td>0</td>\n",
       "      <td>0</td>\n",
       "      <td>0</td>\n",
       "      <td>0</td>\n",
       "      <td>39.0</td>\n",
       "      <td>THEFT</td>\n",
       "    </tr>\n",
       "    <tr>\n",
       "      <th>5</th>\n",
       "      <td>41.891603</td>\n",
       "      <td>-87.745687</td>\n",
       "      <td>0</td>\n",
       "      <td>0</td>\n",
       "      <td>0</td>\n",
       "      <td>0</td>\n",
       "      <td>0</td>\n",
       "      <td>0</td>\n",
       "      <td>0</td>\n",
       "      <td>0</td>\n",
       "      <td>0</td>\n",
       "      <td>0</td>\n",
       "      <td>0</td>\n",
       "      <td>0</td>\n",
       "      <td>0</td>\n",
       "      <td>0</td>\n",
       "      <td>0</td>\n",
       "      <td>0</td>\n",
       "      <td>0</td>\n",
       "      <td>0</td>\n",
       "      <td>0</td>\n",
       "      <td>0</td>\n",
       "      <td>0</td>\n",
       "      <td>0</td>\n",
       "      <td>0</td>\n",
       "      <td>1</td>\n",
       "      <td>0</td>\n",
       "      <td>0</td>\n",
       "      <td>0</td>\n",
       "      <td>0</td>\n",
       "      <td>0</td>\n",
       "      <td>0</td>\n",
       "      <td>1</td>\n",
       "      <td>0</td>\n",
       "      <td>0</td>\n",
       "      <td>0</td>\n",
       "      <td>0</td>\n",
       "      <td>0</td>\n",
       "      <td>0</td>\n",
       "      <td>0</td>\n",
       "      <td>0</td>\n",
       "      <td>0</td>\n",
       "      <td>0</td>\n",
       "      <td>1</td>\n",
       "      <td>0</td>\n",
       "      <td>28.0</td>\n",
       "      <td>MOTOR VEHICLE THEFT</td>\n",
       "    </tr>\n",
       "  </tbody>\n",
       "</table>\n",
       "</div>"
      ],
      "text/plain": [
       "    latitude  longitude  hour_0  hour_1  hour_2  hour_3  hour_4  hour_5  \\\n",
       "0  41.897895 -87.760744       0       0       0       0       0       0   \n",
       "1  41.798635 -87.604823       0       0       0       0       0       0   \n",
       "2  41.780946 -87.621995       0       0       0       0       0       0   \n",
       "3  41.965404 -87.736202       0       0       0       0       0       0   \n",
       "5  41.891603 -87.745687       0       0       0       0       0       0   \n",
       "\n",
       "   hour_6  hour_7  hour_8  hour_9  hour_10  hour_11  hour_12  hour_13  \\\n",
       "0       0       0       0       0        0        0        0        0   \n",
       "1       0       0       1       0        0        0        0        0   \n",
       "2       0       0       0       1        0        0        0        0   \n",
       "3       0       0       0       0        0        0        1        0   \n",
       "5       0       0       0       0        0        0        0        0   \n",
       "\n",
       "   hour_14  hour_15  hour_16  hour_17  hour_18  hour_19  hour_20  hour_21  \\\n",
       "0        0        0        0        0        0        0        0        0   \n",
       "1        0        0        0        0        0        0        0        0   \n",
       "2        0        0        0        0        0        0        0        0   \n",
       "3        0        0        0        0        0        0        0        0   \n",
       "5        0        0        0        0        0        0        0        0   \n",
       "\n",
       "   hour_22  hour_23  Friday  Monday  Saturday  Sunday  Thursday  Tuesday  \\\n",
       "0        1        0       0       0         1       0         0        0   \n",
       "1        0        0       0       0         1       0         0        0   \n",
       "2        0        0       0       0         1       0         0        0   \n",
       "3        0        0       0       0         1       0         0        0   \n",
       "5        0        1       0       0         0       0         0        0   \n",
       "\n",
       "   Wednesday  April  August  December  February  January  July  June  March  \\\n",
       "0          0      1       0         0         0        0     0     0      0   \n",
       "1          0      1       0         0         0        0     0     0      0   \n",
       "2          0      1       0         0         0        0     0     0      0   \n",
       "3          0      1       0         0         0        0     0     0      0   \n",
       "5          1      0       0         0         0        0     0     0      0   \n",
       "\n",
       "   May  November  October  September  ward               crimes  \n",
       "0    0         0        0          0  37.0            NARCOTICS  \n",
       "1    0         0        0          0   5.0      CRIMINAL DAMAGE  \n",
       "2    0         0        0          0  20.0                THEFT  \n",
       "3    0         0        0          0  39.0                THEFT  \n",
       "5    0         0        1          0  28.0  MOTOR VEHICLE THEFT  "
      ]
     },
     "execution_count": 155,
     "metadata": {},
     "output_type": "execute_result"
    }
   ],
   "source": [
    "df_features.head()"
   ]
  },
  {
   "cell_type": "markdown",
   "metadata": {},
   "source": [
    "There are a couple of further small changes to be made:\n",
    " - Create a smaller DataFrame of only the top three crimes\n",
    " - Create the X, dependant variables, DataFrames by dropping the Crimes column\n",
    " - Create the y, independant variable, \n",
    " - Normailse the X Data"
   ]
  },
  {
   "cell_type": "code",
   "execution_count": 170,
   "metadata": {},
   "outputs": [],
   "source": [
    "# Create a smaller DataFrame of only the top three crimes\n",
    "df_features_3 = df_features[df_features['crimes'].isin(top_three_crimes)].copy()\n",
    "\n",
    "# Create a smaller DataFrame of only the top two crimes\n",
    "df_features_2 = df_features[df_features['crimes'].isin(top_two_crimes)].copy()"
   ]
  },
  {
   "cell_type": "code",
   "execution_count": 174,
   "metadata": {},
   "outputs": [],
   "source": [
    "#  Create the X, dependant variables, DataFrames by dropping the Crimes column\n",
    "X_10 = df_features.copy()\n",
    "y_10 = X_10.crimes.values\n",
    "\n",
    "X_10.drop('crimes', axis=1, inplace=True)\n",
    "X_10 = preprocessing.StandardScaler().fit(X_10).transform(X_10)\n",
    "\n",
    "\n",
    "X_3 = df_features_3.copy()\n",
    "y_3 = X_3.crimes.values\n",
    "\n",
    "X_3.drop('crimes', axis=1, inplace=True)\n",
    "X_3 = preprocessing.StandardScaler().fit(X_3).transform(X_3)\n",
    "\n",
    "X_2 = df_features_2.copy()\n",
    "y_2 = X_2.crimes.values\n",
    "\n",
    "X_2.drop('crimes', axis=1, inplace=True)\n",
    "X_2 = preprocessing.StandardScaler().fit(X_2).transform(X_2)\n"
   ]
  },
  {
   "cell_type": "code",
   "execution_count": 114,
   "metadata": {},
   "outputs": [],
   "source": [
    "# Set X = X_10\n",
    "X = X_10\n",
    "y = y_10"
   ]
  },
  {
   "cell_type": "code",
   "execution_count": 143,
   "metadata": {},
   "outputs": [],
   "source": [
    "# Set X = X_3\n",
    "X = X_3\n",
    "y = y_3"
   ]
  },
  {
   "cell_type": "code",
   "execution_count": 175,
   "metadata": {},
   "outputs": [],
   "source": [
    "# Set X = X_2\n",
    "X = X_2\n",
    "y = y_2"
   ]
  },
  {
   "cell_type": "markdown",
   "metadata": {},
   "source": [
    "### K Nearest Neighbor(KNN)\n",
    "Find the best k to build the model with the best accuracy."
   ]
  },
  {
   "cell_type": "code",
   "execution_count": 53,
   "metadata": {},
   "outputs": [
    {
     "name": "stdout",
     "output_type": "stream",
     "text": [
      "Heighbours:  15   2018-09-27 18:30:05.079412\n",
      "Heighbours:  15   2018-09-27 18:42:10.549026\n",
      "Heighbours:  15   2018-09-27 18:54:24.891635\n",
      "Heighbours:  15   2018-09-27 19:07:50.205988\n",
      "Heighbours:  15   2018-09-27 19:20:38.551279\n",
      "Heighbours:  15   2018-09-27 19:33:53.544815\n",
      "Heighbours:  15   2018-09-27 19:50:07.531802\n"
     ]
    },
    {
     "data": {
      "image/png": "[encoded data removed]",
      "text/plain": [
       "<Figure size 432x288 with 1 Axes>"
      ]
     },
     "metadata": {
      "needs_background": "light"
     },
     "output_type": "display_data"
    }
   ],
   "source": [
    "# Number of neighbours\n",
    "neighs = range(5, 12)\n",
    "\n",
    "# Store the scores\n",
    "scores = np.zeros((len(neighs), 3))\n",
    "\n",
    "for idx, neigh in enumerate(neighs):\n",
    "    print('Heighbours: ', neigh, ' ', str(datetime.now()))\n",
    "    model = KNeighborsClassifier(n_neighbors = neigh)\n",
    "    scores[idx, : ] = cross_validate(model, n_splits = 5)\n",
    "\n",
    "plt.plot(neighs, scores[ : , 1], 'b')\n",
    "plt.fill_between(neighs, scores[ : , 0], scores[:, 2], alpha = 0.1)\n",
    "plt.legend(('Median', '(40, 60) percentile'))\n",
    "plt.ylabel('Accuracy')\n",
    "plt.xlabel('Number of Neighbors')\n",
    "plt.tight_layout()\n",
    "plt.show()"
   ]
  },
  {
   "cell_type": "code",
   "execution_count": null,
   "metadata": {},
   "outputs": [],
   "source": []
  },
  {
   "cell_type": "code",
   "execution_count": null,
   "metadata": {},
   "outputs": [],
   "source": []
  },
  {
   "cell_type": "code",
   "execution_count": 176,
   "metadata": {},
   "outputs": [
    {
     "name": "stdout",
     "output_type": "stream",
     "text": [
      "Depth:  10   2018-09-29 20:21:43.711835\n",
      "Depth:  11   2018-09-29 20:21:52.729822\n",
      "Depth:  12   2018-09-29 20:22:02.061035\n",
      "Depth:  13   2018-09-29 20:22:11.946203\n",
      "Depth:  14   2018-09-29 20:22:22.311324\n",
      "Depth:  15   2018-09-29 20:22:33.211318\n"
     ]
    },
    {
     "data": {
      "image/png": "[encoded data removed]",
      "text/plain": [
       "<Figure size 432x288 with 1 Axes>"
      ]
     },
     "metadata": {
      "needs_background": "light"
     },
     "output_type": "display_data"
    }
   ],
   "source": [
    "# Decision Tree\n",
    "from datetime import datetime\n",
    "from sklearn.tree import DecisionTreeClassifier\n",
    "\n",
    "depths = range(10, 16)\n",
    "scores = np.zeros((len(depths), 3))\n",
    "# scores = np.zeros((len(depths), 2))\n",
    "for idx, depth in enumerate(depths):\n",
    "    print('Depth: ', depth, ' ', str(datetime.now()))\n",
    "    model = DecisionTreeClassifier(criterion = \"entropy\", max_depth = depth)\n",
    "    scores[idx, : ] = cross_validate(model, n_splits = 10)\n",
    "\n",
    "plt.plot(depths, scores[ : , 1], 'b')\n",
    "plt.fill_between(depths, scores[ : , 0], scores[:, 2], alpha = 0.1)\n",
    "plt.legend(('Median', '(40, 60) percentile'))\n",
    "plt.ylabel('Accuracy')\n",
    "plt.xlabel('Depth')\n",
    "plt.tight_layout()\n",
    "plt.show()\n",
    "\n"
   ]
  },
  {
   "cell_type": "code",
   "execution_count": null,
   "metadata": {},
   "outputs": [],
   "source": []
  },
  {
   "cell_type": "code",
   "execution_count": null,
   "metadata": {},
   "outputs": [],
   "source": []
  },
  {
   "cell_type": "code",
   "execution_count": null,
   "metadata": {},
   "outputs": [],
   "source": []
  },
  {
   "cell_type": "code",
   "execution_count": null,
   "metadata": {},
   "outputs": [],
   "source": []
  },
  {
   "cell_type": "code",
   "execution_count": 146,
   "metadata": {},
   "outputs": [
    {
     "name": "stdout",
     "output_type": "stream",
     "text": [
      "C:  0.01   2018-09-29 19:55:35.850317\n",
      "C:  0.03162277660168379   2018-09-29 19:55:54.529972\n",
      "C:  0.1   2018-09-29 19:56:18.591961\n",
      "C:  0.31622776601683794   2018-09-29 19:56:50.485827\n",
      "C:  1.0   2018-09-29 19:57:08.953289\n",
      "C:  3.1622776601683795   2018-09-29 19:57:32.267145\n"
     ]
    },
    {
     "data": {
      "image/png": "[encoded data removed]",
      "text/plain": [
       "<Figure size 432x288 with 1 Axes>"
      ]
     },
     "metadata": {
      "needs_background": "light"
     },
     "output_type": "display_data"
    }
   ],
   "source": [
    "# Logistic Regression\n",
    "\n",
    "from sklearn.linear_model import LogisticRegression\n",
    "\n",
    "C = np.logspace(-2.0, 0.5, num = 6, endpoint = True)\n",
    "scores = np.zeros((len(C), 3))\n",
    "for idx, c in enumerate(C):\n",
    "    print('C: ', c, ' ', str(datetime.now()))\n",
    "    model = LogisticRegression(C = c, solver = 'liblinear')\n",
    "    scores[idx, : ] = cross_validate(model, n_splits = 10)\n",
    "\n",
    "plt.plot(C, scores[ : , 1], 'b')\n",
    "plt.xscale('log')\n",
    "plt.fill_between(C, scores[ : , 0], scores[:, 2], alpha = 0.1)\n",
    "plt.legend(('Median', '(40, 60) percentile'))\n",
    "plt.ylabel('Accuracy')\n",
    "plt.xlabel('C')\n",
    "plt.tight_layout()\n",
    "plt.show()"
   ]
  },
  {
   "cell_type": "code",
   "execution_count": null,
   "metadata": {},
   "outputs": [],
   "source": []
  },
  {
   "cell_type": "code",
   "execution_count": null,
   "metadata": {},
   "outputs": [],
   "source": []
  },
  {
   "cell_type": "code",
   "execution_count": 147,
   "metadata": {},
   "outputs": [
    {
     "name": "stdout",
     "output_type": "stream",
     "text": [
      "Alpha:  0.1   2018-09-29 19:58:32.874182\n",
      "Alpha:  0.2   2018-09-29 19:58:38.732401\n",
      "Alpha:  0.30000000000000004   2018-09-29 19:58:44.623051\n",
      "Alpha:  0.4   2018-09-29 19:58:50.409530\n",
      "Alpha:  0.5   2018-09-29 19:58:55.754630\n",
      "Alpha:  0.6   2018-09-29 19:59:01.995696\n",
      "Alpha:  0.7000000000000001   2018-09-29 19:59:07.390830\n",
      "Alpha:  0.8   2018-09-29 19:59:12.751034\n",
      "Alpha:  0.9   2018-09-29 19:59:18.619313\n",
      "Alpha:  1.0   2018-09-29 19:59:24.275347\n"
     ]
    },
    {
     "data": {
      "image/png": "[encoded data removed]",
      "text/plain": [
       "<Figure size 432x288 with 1 Axes>"
      ]
     },
     "metadata": {
      "needs_background": "light"
     },
     "output_type": "display_data"
    }
   ],
   "source": [
    "# Naive Bayes\n",
    "\n",
    "alpha = np.linspace(0.1, 1, num=10)\n",
    "scores = np.zeros((len(alpha), 3))\n",
    "for idx, a in enumerate(alpha):\n",
    "    print('Alpha: ', a, ' ', str(datetime.now()))\n",
    "    model = BernoulliNB()\n",
    "    scores[idx, : ] = cross_validate(model, n_splits = 10)\n",
    "\n",
    "plt.plot(alpha, scores[ : , 1], 'b')\n",
    "plt.xscale('log')\n",
    "plt.fill_between(alpha, scores[ : , 0], scores[:, 2], alpha = 0.1)\n",
    "plt.legend(('Median', '(40, 60) percentile'))\n",
    "plt.ylabel('Accuracy')\n",
    "plt.xlabel('C')\n",
    "plt.tight_layout()\n",
    "plt.show()"
   ]
  },
  {
   "cell_type": "code",
   "execution_count": null,
   "metadata": {},
   "outputs": [],
   "source": []
  },
  {
   "cell_type": "code",
   "execution_count": 148,
   "metadata": {},
   "outputs": [
    {
     "name": "stdout",
     "output_type": "stream",
     "text": [
      "Estimator:  12   2018-09-29 19:59:54.411928\n",
      "Estimator:  13   2018-09-29 20:00:28.651094\n",
      "Estimator:  14   2018-09-29 20:01:07.014314\n",
      "Estimator:  15   2018-09-29 20:01:46.615577\n",
      "Estimator:  16   2018-09-29 20:02:28.741745\n",
      "Estimator:  17   2018-09-29 20:03:12.244684\n"
     ]
    },
    {
     "data": {
      "image/png": "[encoded data removed]",
      "text/plain": [
       "<Figure size 432x288 with 1 Axes>"
      ]
     },
     "metadata": {
      "needs_background": "light"
     },
     "output_type": "display_data"
    }
   ],
   "source": [
    "# Decision Forest using a Random Forest\n",
    "\n",
    "est = range(12, 18)\n",
    "scores = np.zeros((len(est), 3))\n",
    "for idx, a in enumerate(est):\n",
    "    print('Estimator: ', a, ' ', str(datetime.now()))\n",
    "    model = RandomForestClassifier(n_estimators = a, max_features = 'sqrt')\n",
    "    scores[idx, : ] = cross_validate(model, n_splits = 10)\n",
    "\n",
    "plt.plot(est, scores[ : , 1], 'b')\n",
    "plt.fill_between(est, scores[ : , 0], scores[:, 2], alpha = 0.1)\n",
    "plt.legend(('Median', '(40, 60) percentile'))\n",
    "plt.ylabel('Accuracy')\n",
    "plt.xlabel('Number of Neighbors')\n",
    "plt.tight_layout()\n",
    "plt.show()"
   ]
  },
  {
   "cell_type": "code",
   "execution_count": null,
   "metadata": {},
   "outputs": [],
   "source": [
    "def cross_validate_02(model, n_splits = 10):\n",
    "\n",
    "    Ks = 10\n",
    "    mean_acc = np.zeros((Ks-1))\n",
    "    std_acc = np.zeros((Ks-1))\n",
    "    ConfustionMx = [];\n",
    "    for n in range(1,Ks):\n",
    "\n",
    "        #Train Model and Predict\n",
    "        k_fold = KFold(n_splits = n_splits)\n",
    "        for train, test in k_fold.split(X):\n",
    "            neigh = KNeighborsClassifier(n_neighbors = n).fit(X[train], y[train])\n",
    "            yhat=neigh.predict(X[test])\n",
    "            mean_acc[n-1] = metrics.accuracy_score(y[test], yhat)\n",
    "            std_acc[n-1]=np.std(yhat==y[test])/np.sqrt(yhat.shape[0])\n",
    "\n",
    "    mean_acc\n",
    "    \n",
    "def cross_validate(model, n_splits = 10):\n",
    "    \n",
    "    k_fold = KFold(n_splits = n_splits)\n",
    "    scores = [model.fit(X[train], y[train]).score(X[test], y[test]) for train, test in k_fold.split(X)]\n",
    "    \n",
    "    scores = np.percentile(scores, [40, 50, 60])\n",
    "    return scores\n",
    "\n"
   ]
  },
  {
   "cell_type": "code",
   "execution_count": null,
   "metadata": {},
   "outputs": [],
   "source": []
  },
  {
   "cell_type": "code",
   "execution_count": null,
   "metadata": {},
   "outputs": [],
   "source": []
  },
  {
   "cell_type": "code",
   "execution_count": 52,
   "metadata": {},
   "outputs": [],
   "source": [
    "import requests\n",
    "\n",
    "page = requests.get(\"https://foursquare.com/explore?mode=url&near=Chicago%2C%20IL%2C%20United%20States&nearGeoId=72057594042815334&q=Top%20Picks\")\n",
    "\n",
    "from bs4 import BeautifulSoup\n",
    "soup = BeautifulSoup(page.content, 'html.parser')\n",
    "top_venues = soup.find_all('div', class_='venueDetails')"
   ]
  },
  {
   "cell_type": "code",
   "execution_count": 53,
   "metadata": {},
   "outputs": [
    {
     "data": {
      "text/plain": [
       "<div class=\"venueDetails\"><div class=\"venueName\"><h2><a href=\"/v/millennium-park/42b75880f964a52090251fe3\" target=\"_blank\">Millennium Park</a></h2></div><div class=\"venueMeta\"><div class=\"venueScore positive\" style=\"background-color: #00B551;\" title=\"9.7/10 - People like this place\">9.7</div><div class=\"venueAddressData\"><div class=\"venueAddress\">201 E Randolph St (btwn Columbus Dr &amp; Michigan Ave), Chicago</div><div class=\"venueData\"><span class=\"venueDataItem\"><span class=\"categoryName\">Park</span><span class=\"delim\"> • </span></span></div></div></div></div>"
      ]
     },
     "execution_count": 53,
     "metadata": {},
     "output_type": "execute_result"
    }
   ],
   "source": [
    "top_venues[1]"
   ]
  },
  {
   "cell_type": "code",
   "execution_count": 71,
   "metadata": {},
   "outputs": [],
   "source": [
    "venue_columns = ['id', \n",
    "                 'score', \n",
    "                 'category', \n",
    "                 'name', \n",
    "                 'address',\n",
    "                 'postalcode',\n",
    "                 'city',\n",
    "                 'href', \n",
    "                 'latitude', \n",
    "                 'longitude']\n",
    "\n",
    "df_top_venues = pd.DataFrame(columns=venue_columns)\n",
    "\n",
    "for venue in top_venues:\n",
    "    venue_name = venue.find(target=\"_blank\").get_text()\n",
    "    venue_score = venue.find(class_=\"venueScore positive\").get_text()\n",
    "    venue_cat = venue.find(class_=\"categoryName\").get_text()\n",
    "    venue_href = venue.find(class_=\"venueName\").h2.a['href']\n",
    "    venue_id = venue_href.split('/')[-1]\n",
    "\n",
    "    if 'promotedTipId' in venue_id: \n",
    "        continue\n",
    "        \n",
    "    # Get the properly formatted address and the latitude and longitude\n",
    "    url = 'https://api.foursquare.com/v2/venues/{}?client_id={}&client_secret={}&v={}'.format(\n",
    "        venue_id, \n",
    "        cfg['client_id'],\n",
    "        cfg['client_secret'],\n",
    "        cfg['version'])\n",
    "    \n",
    "    result = requests.get(url).json()\n",
    "    \n",
    "    # print(result['response']['venue']['location'])\n",
    "    venue_address = result['response']['venue']['location']['address']\n",
    "    venue_postalcode = result['response']['venue']['location']['postalCode']\n",
    "    venue_city = result['response']['venue']['location']['city']\n",
    "    venue_latitude = result['response']['venue']['location']['lat']\n",
    "    venue_longitude = result['response']['venue']['location']['lng']\n",
    "    \n",
    "    df_top_venues = df_top_venues.append({'id': venue_id,\n",
    "                                          'score': venue_score,\n",
    "                                          'category': venue_cat,\n",
    "                                          'name': venue_name,\n",
    "                                          'address': venue_address,\n",
    "                                          'postalcode': venue_postalcode,\n",
    "                                          'city': venue_city,\n",
    "                                          'href': venue_href,\n",
    "                                          'latitude': venue_latitude,\n",
    "                                          'longitude': venue_longitude}, ignore_index=True)\n"
   ]
  },
  {
   "cell_type": "code",
   "execution_count": 72,
   "metadata": {},
   "outputs": [
    {
     "data": {
      "text/plain": [
       "(30, 10)"
      ]
     },
     "execution_count": 72,
     "metadata": {},
     "output_type": "execute_result"
    }
   ],
   "source": [
    "df_top_venues.shape"
   ]
  },
  {
   "cell_type": "code",
   "execution_count": 73,
   "metadata": {},
   "outputs": [
    {
     "data": {
      "text/html": [
       "<div>\n",
       "<style scoped>\n",
       "    .dataframe tbody tr th:only-of-type {\n",
       "        vertical-align: middle;\n",
       "    }\n",
       "\n",
       "    .dataframe tbody tr th {\n",
       "        vertical-align: top;\n",
       "    }\n",
       "\n",
       "    .dataframe thead th {\n",
       "        text-align: right;\n",
       "    }\n",
       "</style>\n",
       "<table border=\"1\" class=\"dataframe\">\n",
       "  <thead>\n",
       "    <tr style=\"text-align: right;\">\n",
       "      <th></th>\n",
       "      <th>id</th>\n",
       "      <th>score</th>\n",
       "      <th>category</th>\n",
       "      <th>name</th>\n",
       "      <th>address</th>\n",
       "      <th>postalcode</th>\n",
       "      <th>city</th>\n",
       "      <th>href</th>\n",
       "      <th>latitude</th>\n",
       "      <th>longitude</th>\n",
       "    </tr>\n",
       "  </thead>\n",
       "  <tbody>\n",
       "    <tr>\n",
       "      <th>0</th>\n",
       "      <td>42b75880f964a52090251fe3</td>\n",
       "      <td>9.7</td>\n",
       "      <td>Park</td>\n",
       "      <td>Millennium Park</td>\n",
       "      <td>201 E Randolph St</td>\n",
       "      <td>60601</td>\n",
       "      <td>Chicago</td>\n",
       "      <td>/v/millennium-park/42b75880f964a52090251fe3</td>\n",
       "      <td>41.882662</td>\n",
       "      <td>-87.623239</td>\n",
       "    </tr>\n",
       "    <tr>\n",
       "      <th>1</th>\n",
       "      <td>4b9511c7f964a520f38d34e3</td>\n",
       "      <td>9.6</td>\n",
       "      <td>Trail</td>\n",
       "      <td>Chicago Lakefront Trail</td>\n",
       "      <td>Lake Michigan Lakefront</td>\n",
       "      <td>60611</td>\n",
       "      <td>Chicago</td>\n",
       "      <td>/v/chicago-lakefront-trail/4b9511c7f964a520f38...</td>\n",
       "      <td>41.967053</td>\n",
       "      <td>-87.646909</td>\n",
       "    </tr>\n",
       "    <tr>\n",
       "      <th>2</th>\n",
       "      <td>49e9ef74f964a52011661fe3</td>\n",
       "      <td>9.6</td>\n",
       "      <td>Art Museum</td>\n",
       "      <td>The Art Institute of Chicago</td>\n",
       "      <td>111 S Michigan Ave</td>\n",
       "      <td>60603</td>\n",
       "      <td>Chicago</td>\n",
       "      <td>/v/the-art-institute-of-chicago/49e9ef74f964a5...</td>\n",
       "      <td>41.879665</td>\n",
       "      <td>-87.623630</td>\n",
       "    </tr>\n",
       "    <tr>\n",
       "      <th>3</th>\n",
       "      <td>4f2a0d0ae4b0837d0c4c2bc3</td>\n",
       "      <td>9.6</td>\n",
       "      <td>Deli / Bodega</td>\n",
       "      <td>Publican Quality Meats</td>\n",
       "      <td>825 W Fulton Market</td>\n",
       "      <td>60607</td>\n",
       "      <td>Chicago</td>\n",
       "      <td>/v/publican-quality-meats/4f2a0d0ae4b0837d0c4c...</td>\n",
       "      <td>41.886642</td>\n",
       "      <td>-87.648718</td>\n",
       "    </tr>\n",
       "    <tr>\n",
       "      <th>4</th>\n",
       "      <td>4aa05f40f964a520643f20e3</td>\n",
       "      <td>9.6</td>\n",
       "      <td>Theater</td>\n",
       "      <td>The Chicago Theatre</td>\n",
       "      <td>175 N State St</td>\n",
       "      <td>60601</td>\n",
       "      <td>Chicago</td>\n",
       "      <td>/v/the-chicago-theatre/4aa05f40f964a520643f20e3</td>\n",
       "      <td>41.885578</td>\n",
       "      <td>-87.627286</td>\n",
       "    </tr>\n",
       "  </tbody>\n",
       "</table>\n",
       "</div>"
      ],
      "text/plain": [
       "                         id score       category  \\\n",
       "0  42b75880f964a52090251fe3   9.7           Park   \n",
       "1  4b9511c7f964a520f38d34e3   9.6          Trail   \n",
       "2  49e9ef74f964a52011661fe3   9.6     Art Museum   \n",
       "3  4f2a0d0ae4b0837d0c4c2bc3   9.6  Deli / Bodega   \n",
       "4  4aa05f40f964a520643f20e3   9.6        Theater   \n",
       "\n",
       "                           name                  address postalcode     city  \\\n",
       "0               Millennium Park        201 E Randolph St      60601  Chicago   \n",
       "1       Chicago Lakefront Trail  Lake Michigan Lakefront      60611  Chicago   \n",
       "2  The Art Institute of Chicago       111 S Michigan Ave      60603  Chicago   \n",
       "3        Publican Quality Meats      825 W Fulton Market      60607  Chicago   \n",
       "4           The Chicago Theatre           175 N State St      60601  Chicago   \n",
       "\n",
       "                                                href   latitude  longitude  \n",
       "0        /v/millennium-park/42b75880f964a52090251fe3  41.882662 -87.623239  \n",
       "1  /v/chicago-lakefront-trail/4b9511c7f964a520f38...  41.967053 -87.646909  \n",
       "2  /v/the-art-institute-of-chicago/49e9ef74f964a5...  41.879665 -87.623630  \n",
       "3  /v/publican-quality-meats/4f2a0d0ae4b0837d0c4c...  41.886642 -87.648718  \n",
       "4    /v/the-chicago-theatre/4aa05f40f964a520643f20e3  41.885578 -87.627286  "
      ]
     },
     "execution_count": 73,
     "metadata": {},
     "output_type": "execute_result"
    }
   ],
   "source": [
    "df_top_venues.head()"
   ]
  },
  {
   "cell_type": "code",
   "execution_count": null,
   "metadata": {},
   "outputs": [],
   "source": []
  },
  {
   "cell_type": "code",
   "execution_count": 74,
   "metadata": {},
   "outputs": [],
   "source": [
    "# Create a map with the top 10 locations"
   ]
  },
  {
   "cell_type": "code",
   "execution_count": 81,
   "metadata": {},
   "outputs": [
    {
     "name": "stdout",
     "output_type": "stream",
     "text": [
      "There are 10 restaurants around the Millennium Park venue.\n",
      "There are 1 restaurants around the Chicago Lakefront Trail venue.\n",
      "There are 10 restaurants around the The Art Institute of Chicago venue.\n",
      "There are 10 restaurants around the Publican Quality Meats venue.\n",
      "There are 10 restaurants around the The Chicago Theatre venue.\n",
      "There are 10 restaurants around the Symphony Center (Chicago Symphony Orchestra) venue.\n",
      "There are 10 restaurants around the Grant Park venue.\n",
      "There are 10 restaurants around the Chicago Riverwalk venue.\n",
      "There are 2 restaurants around the Garfield Park Conservatory venue.\n",
      "There are 10 restaurants around the Joe's Seafood, Prime Steak & Stone Crab venue.\n",
      "There are 10 restaurants around the Weber's Bakery venue.\n",
      "There are 10 restaurants around the Binny's Beverage Depot venue.\n",
      "There are 10 restaurants around the Nature Boardwalk venue.\n",
      "There are 10 restaurants around the Music Box Theatre venue.\n",
      "There are 10 restaurants around the Bari venue.\n",
      "There are 10 restaurants around the Maggie Daley Park venue.\n",
      "There are 10 restaurants around the Jay Pritzker Pavilion venue.\n",
      "There are 10 restaurants around the Green City Market venue.\n",
      "There are 10 restaurants around the Unabridged Books venue.\n",
      "There are 10 restaurants around the Lickity Split venue.\n",
      "There are 10 restaurants around the Maude's Liquor Bar venue.\n",
      "There are 10 restaurants around the Heritage Bicycles venue.\n",
      "There are 10 restaurants around the Jeni's Splendid Ice Creams venue.\n",
      "There are 10 restaurants around the Goose Island Beer Co. venue.\n",
      "There are 10 restaurants around the Ping Tom Memorial Park venue.\n",
      "There are 10 restaurants around the Thalia Hall venue.\n",
      "There are 10 restaurants around the Dove's Luncheonette venue.\n",
      "There are 10 restaurants around the Bang Bang Pie Shop venue.\n",
      "There are 6 restaurants around the Chicago Lakefront venue.\n",
      "There are 10 restaurants around the The Oriental Institute venue.\n"
     ]
    }
   ],
   "source": [
    "# Create a list of all the top venue latitude and longitude\n",
    "top_venue_lats = df_top_venues['latitude'].values\n",
    "top_venue_lngs = df_top_venues['longitude'].values\n",
    "\n",
    "# Create a list of all the top venue names\n",
    "top_venue_names = df_top_venues['name'].values\n",
    "\n",
    "for ven_name, ven_lat, ven_long in zip(top_venue_names, top_venue_lats, top_venue_lngs):\n",
    "    # print(ven_id, ven_name)\n",
    "    \n",
    "    # Configure additional Search parameters\n",
    "    categoryId = '4d4b7105d754a06374d81259'\n",
    "    radius = 500\n",
    "    limit = 10\n",
    "    \n",
    "    url = 'https://api.foursquare.com/v2/venues/explore?client_id={}&client_secret={}&ll={},{}&v={}&categoryId={}&radius={}&limit={}'.format(\n",
    "        cfg['client_id'],\n",
    "        cfg['client_secret'],\n",
    "        ven_lat,\n",
    "        ven_long,\n",
    "        cfg['version'],\n",
    "        categoryId,\n",
    "        radius,\n",
    "        limit)\n",
    "    \n",
    "    results = requests.get(url).json()\n",
    "    print('There are {} restaurants around the {} venue.'.format(\n",
    "        len(results['response']['groups'][0]['items']),\n",
    "        ven_name))\n",
    "\n",
    "\n"
   ]
  },
  {
   "cell_type": "code",
   "execution_count": null,
   "metadata": {},
   "outputs": [],
   "source": [
    "# Find the best place to eat at each of the top 10 locations"
   ]
  },
  {
   "cell_type": "code",
   "execution_count": null,
   "metadata": {},
   "outputs": [],
   "source": []
  },
  {
   "cell_type": "code",
   "execution_count": null,
   "metadata": {},
   "outputs": [],
   "source": [
    "# Create a map with the top 10 locations and the places to eat"
   ]
  },
  {
   "cell_type": "code",
   "execution_count": null,
   "metadata": {},
   "outputs": [],
   "source": []
  },
  {
   "cell_type": "code",
   "execution_count": null,
   "metadata": {},
   "outputs": [],
   "source": [
    "#For each of the locations add Crimes within 500 meters"
   ]
  },
  {
   "cell_type": "code",
   "execution_count": null,
   "metadata": {},
   "outputs": [],
   "source": []
  },
  {
   "cell_type": "code",
   "execution_count": null,
   "metadata": {},
   "outputs": [],
   "source": [
    "# Can we predict the crime"
   ]
  }
 ],
 "metadata": {
  "kernelspec": {
   "display_name": "Python [conda root]",
   "language": "python",
   "name": "conda-root-py"
  },
  "language_info": {
   "codemirror_mode": {
    "name": "ipython",
    "version": 3
   },
   "file_extension": ".py",
   "mimetype": "text/x-python",
   "name": "python",
   "nbconvert_exporter": "python",
   "pygments_lexer": "ipython3",
   "version": "3.5.6"
  }
 },
 "nbformat": 4,
 "nbformat_minor": 2
}
